{
 "cells": [
  {
   "cell_type": "code",
   "execution_count": 17,
   "id": "e444073a",
   "metadata": {},
   "outputs": [],
   "source": [
    "import numpy as np\n",
    "import pandas as pd\n",
    "import seaborn as sns\n",
    "import matplotlib.pyplot as plt\n",
    "import warnings\n",
    "warnings.filterwarnings(\"ignore\")\n",
    "from sklearn.preprocessing import StandardScaler, LabelEncoder\n",
    "from sklearn.model_selection import train_test_split\n",
    "\n",
    "from sklearn.linear_model import Perceptron   # Used for similar classification tasks\n",
    "\n",
    "from sklearn.metrics import accuracy_score, classification_report, confusion_matrix\n",
    "\n",
    "from tensorflow.keras.models import Sequential   # Sequential let you build neural network layer by layer in keras\n",
    "\n",
    "from tensorflow.keras.layers import Dense   # Dense make the prediction\n",
    "from tensorflow.keras.layers import Dropout # Dropout helps prevent overfitting\n",
    "from tensorflow.keras.layers import Conv2D  # Conv2D ectracts features\n",
    "from tensorflow.keras.layers import MaxPooling2D  # MaxPooling2D reduces the dimensionality of each feature map but retains the most important information\n",
    "from tensorflow.keras.layers import Flatten    # Flatten reshapes them\n",
    "\n",
    "from tensorflow.keras.utils import to_categorical    # - > Converts class labels(like 0, 1, 2) into one-hot encoded vectors\n"
   ]
  },
  {
   "cell_type": "code",
   "execution_count": 18,
   "id": "6e6425ea",
   "metadata": {},
   "outputs": [],
   "source": [
    "df = pd.read_csv(\"mnist_train.csv\")\n",
    "df_test = pd.read_csv(\"mnist_test.csv\")"
   ]
  },
  {
   "cell_type": "code",
   "execution_count": 19,
   "id": "9da58ac1",
   "metadata": {},
   "outputs": [
    {
     "data": {
      "application/vnd.microsoft.datawrangler.viewer.v0+json": {
       "columns": [
        {
         "name": "index",
         "rawType": "int64",
         "type": "integer"
        },
        {
         "name": "label",
         "rawType": "int64",
         "type": "integer"
        },
        {
         "name": "1x1",
         "rawType": "int64",
         "type": "integer"
        },
        {
         "name": "1x2",
         "rawType": "int64",
         "type": "integer"
        },
        {
         "name": "1x3",
         "rawType": "int64",
         "type": "integer"
        },
        {
         "name": "1x4",
         "rawType": "int64",
         "type": "integer"
        },
        {
         "name": "1x5",
         "rawType": "int64",
         "type": "integer"
        },
        {
         "name": "1x6",
         "rawType": "int64",
         "type": "integer"
        },
        {
         "name": "1x7",
         "rawType": "int64",
         "type": "integer"
        },
        {
         "name": "1x8",
         "rawType": "int64",
         "type": "integer"
        },
        {
         "name": "1x9",
         "rawType": "int64",
         "type": "integer"
        },
        {
         "name": "1x10",
         "rawType": "int64",
         "type": "integer"
        },
        {
         "name": "1x11",
         "rawType": "int64",
         "type": "integer"
        },
        {
         "name": "1x12",
         "rawType": "int64",
         "type": "integer"
        },
        {
         "name": "1x13",
         "rawType": "int64",
         "type": "integer"
        },
        {
         "name": "1x14",
         "rawType": "int64",
         "type": "integer"
        },
        {
         "name": "1x15",
         "rawType": "int64",
         "type": "integer"
        },
        {
         "name": "1x16",
         "rawType": "int64",
         "type": "integer"
        },
        {
         "name": "1x17",
         "rawType": "int64",
         "type": "integer"
        },
        {
         "name": "1x18",
         "rawType": "int64",
         "type": "integer"
        },
        {
         "name": "1x19",
         "rawType": "int64",
         "type": "integer"
        },
        {
         "name": "1x20",
         "rawType": "int64",
         "type": "integer"
        },
        {
         "name": "1x21",
         "rawType": "int64",
         "type": "integer"
        },
        {
         "name": "1x22",
         "rawType": "int64",
         "type": "integer"
        },
        {
         "name": "1x23",
         "rawType": "int64",
         "type": "integer"
        },
        {
         "name": "1x24",
         "rawType": "int64",
         "type": "integer"
        },
        {
         "name": "1x25",
         "rawType": "int64",
         "type": "integer"
        },
        {
         "name": "1x26",
         "rawType": "int64",
         "type": "integer"
        },
        {
         "name": "1x27",
         "rawType": "int64",
         "type": "integer"
        },
        {
         "name": "1x28",
         "rawType": "int64",
         "type": "integer"
        },
        {
         "name": "2x1",
         "rawType": "int64",
         "type": "integer"
        },
        {
         "name": "2x2",
         "rawType": "int64",
         "type": "integer"
        },
        {
         "name": "2x3",
         "rawType": "int64",
         "type": "integer"
        },
        {
         "name": "2x4",
         "rawType": "int64",
         "type": "integer"
        },
        {
         "name": "2x5",
         "rawType": "int64",
         "type": "integer"
        },
        {
         "name": "2x6",
         "rawType": "int64",
         "type": "integer"
        },
        {
         "name": "2x7",
         "rawType": "int64",
         "type": "integer"
        },
        {
         "name": "2x8",
         "rawType": "int64",
         "type": "integer"
        },
        {
         "name": "2x9",
         "rawType": "int64",
         "type": "integer"
        },
        {
         "name": "2x10",
         "rawType": "int64",
         "type": "integer"
        },
        {
         "name": "2x11",
         "rawType": "int64",
         "type": "integer"
        },
        {
         "name": "2x12",
         "rawType": "int64",
         "type": "integer"
        },
        {
         "name": "2x13",
         "rawType": "int64",
         "type": "integer"
        },
        {
         "name": "2x14",
         "rawType": "int64",
         "type": "integer"
        },
        {
         "name": "2x15",
         "rawType": "int64",
         "type": "integer"
        },
        {
         "name": "2x16",
         "rawType": "int64",
         "type": "integer"
        },
        {
         "name": "2x17",
         "rawType": "int64",
         "type": "integer"
        },
        {
         "name": "2x18",
         "rawType": "int64",
         "type": "integer"
        },
        {
         "name": "2x19",
         "rawType": "int64",
         "type": "integer"
        },
        {
         "name": "2x20",
         "rawType": "int64",
         "type": "integer"
        },
        {
         "name": "2x21",
         "rawType": "int64",
         "type": "integer"
        },
        {
         "name": "2x22",
         "rawType": "int64",
         "type": "integer"
        },
        {
         "name": "2x23",
         "rawType": "int64",
         "type": "integer"
        },
        {
         "name": "2x24",
         "rawType": "int64",
         "type": "integer"
        },
        {
         "name": "2x25",
         "rawType": "int64",
         "type": "integer"
        },
        {
         "name": "2x26",
         "rawType": "int64",
         "type": "integer"
        },
        {
         "name": "2x27",
         "rawType": "int64",
         "type": "integer"
        },
        {
         "name": "2x28",
         "rawType": "int64",
         "type": "integer"
        },
        {
         "name": "3x1",
         "rawType": "int64",
         "type": "integer"
        },
        {
         "name": "3x2",
         "rawType": "int64",
         "type": "integer"
        },
        {
         "name": "3x3",
         "rawType": "int64",
         "type": "integer"
        },
        {
         "name": "3x4",
         "rawType": "int64",
         "type": "integer"
        },
        {
         "name": "3x5",
         "rawType": "int64",
         "type": "integer"
        },
        {
         "name": "3x6",
         "rawType": "int64",
         "type": "integer"
        },
        {
         "name": "3x7",
         "rawType": "int64",
         "type": "integer"
        },
        {
         "name": "3x8",
         "rawType": "int64",
         "type": "integer"
        },
        {
         "name": "3x9",
         "rawType": "int64",
         "type": "integer"
        },
        {
         "name": "3x10",
         "rawType": "int64",
         "type": "integer"
        },
        {
         "name": "3x11",
         "rawType": "int64",
         "type": "integer"
        },
        {
         "name": "3x12",
         "rawType": "int64",
         "type": "integer"
        },
        {
         "name": "3x13",
         "rawType": "int64",
         "type": "integer"
        },
        {
         "name": "3x14",
         "rawType": "int64",
         "type": "integer"
        },
        {
         "name": "3x15",
         "rawType": "int64",
         "type": "integer"
        },
        {
         "name": "3x16",
         "rawType": "int64",
         "type": "integer"
        },
        {
         "name": "3x17",
         "rawType": "int64",
         "type": "integer"
        },
        {
         "name": "3x18",
         "rawType": "int64",
         "type": "integer"
        },
        {
         "name": "3x19",
         "rawType": "int64",
         "type": "integer"
        },
        {
         "name": "3x20",
         "rawType": "int64",
         "type": "integer"
        },
        {
         "name": "3x21",
         "rawType": "int64",
         "type": "integer"
        },
        {
         "name": "3x22",
         "rawType": "int64",
         "type": "integer"
        },
        {
         "name": "3x23",
         "rawType": "int64",
         "type": "integer"
        },
        {
         "name": "3x24",
         "rawType": "int64",
         "type": "integer"
        },
        {
         "name": "3x25",
         "rawType": "int64",
         "type": "integer"
        },
        {
         "name": "3x26",
         "rawType": "int64",
         "type": "integer"
        },
        {
         "name": "3x27",
         "rawType": "int64",
         "type": "integer"
        },
        {
         "name": "3x28",
         "rawType": "int64",
         "type": "integer"
        },
        {
         "name": "4x1",
         "rawType": "int64",
         "type": "integer"
        },
        {
         "name": "4x2",
         "rawType": "int64",
         "type": "integer"
        },
        {
         "name": "4x3",
         "rawType": "int64",
         "type": "integer"
        },
        {
         "name": "4x4",
         "rawType": "int64",
         "type": "integer"
        },
        {
         "name": "4x5",
         "rawType": "int64",
         "type": "integer"
        },
        {
         "name": "4x6",
         "rawType": "int64",
         "type": "integer"
        },
        {
         "name": "4x7",
         "rawType": "int64",
         "type": "integer"
        },
        {
         "name": "4x8",
         "rawType": "int64",
         "type": "integer"
        },
        {
         "name": "4x9",
         "rawType": "int64",
         "type": "integer"
        },
        {
         "name": "4x10",
         "rawType": "int64",
         "type": "integer"
        },
        {
         "name": "4x11",
         "rawType": "int64",
         "type": "integer"
        },
        {
         "name": "4x12",
         "rawType": "int64",
         "type": "integer"
        },
        {
         "name": "4x13",
         "rawType": "int64",
         "type": "integer"
        },
        {
         "name": "4x14",
         "rawType": "int64",
         "type": "integer"
        },
        {
         "name": "4x15",
         "rawType": "int64",
         "type": "integer"
        },
        {
         "name": "4x16",
         "rawType": "int64",
         "type": "integer"
        },
        {
         "name": "4x17",
         "rawType": "int64",
         "type": "integer"
        },
        {
         "name": "4x18",
         "rawType": "int64",
         "type": "integer"
        },
        {
         "name": "4x19",
         "rawType": "int64",
         "type": "integer"
        },
        {
         "name": "4x20",
         "rawType": "int64",
         "type": "integer"
        },
        {
         "name": "4x21",
         "rawType": "int64",
         "type": "integer"
        },
        {
         "name": "4x22",
         "rawType": "int64",
         "type": "integer"
        },
        {
         "name": "4x23",
         "rawType": "int64",
         "type": "integer"
        },
        {
         "name": "4x24",
         "rawType": "int64",
         "type": "integer"
        },
        {
         "name": "4x25",
         "rawType": "int64",
         "type": "integer"
        },
        {
         "name": "4x26",
         "rawType": "int64",
         "type": "integer"
        },
        {
         "name": "4x27",
         "rawType": "int64",
         "type": "integer"
        },
        {
         "name": "4x28",
         "rawType": "int64",
         "type": "integer"
        },
        {
         "name": "5x1",
         "rawType": "int64",
         "type": "integer"
        },
        {
         "name": "5x2",
         "rawType": "int64",
         "type": "integer"
        },
        {
         "name": "5x3",
         "rawType": "int64",
         "type": "integer"
        },
        {
         "name": "5x4",
         "rawType": "int64",
         "type": "integer"
        },
        {
         "name": "5x5",
         "rawType": "int64",
         "type": "integer"
        },
        {
         "name": "5x6",
         "rawType": "int64",
         "type": "integer"
        },
        {
         "name": "5x7",
         "rawType": "int64",
         "type": "integer"
        },
        {
         "name": "5x8",
         "rawType": "int64",
         "type": "integer"
        },
        {
         "name": "5x9",
         "rawType": "int64",
         "type": "integer"
        },
        {
         "name": "5x10",
         "rawType": "int64",
         "type": "integer"
        },
        {
         "name": "5x11",
         "rawType": "int64",
         "type": "integer"
        },
        {
         "name": "5x12",
         "rawType": "int64",
         "type": "integer"
        },
        {
         "name": "5x13",
         "rawType": "int64",
         "type": "integer"
        },
        {
         "name": "5x14",
         "rawType": "int64",
         "type": "integer"
        },
        {
         "name": "5x15",
         "rawType": "int64",
         "type": "integer"
        },
        {
         "name": "5x16",
         "rawType": "int64",
         "type": "integer"
        },
        {
         "name": "5x17",
         "rawType": "int64",
         "type": "integer"
        },
        {
         "name": "5x18",
         "rawType": "int64",
         "type": "integer"
        },
        {
         "name": "5x19",
         "rawType": "int64",
         "type": "integer"
        },
        {
         "name": "5x20",
         "rawType": "int64",
         "type": "integer"
        },
        {
         "name": "5x21",
         "rawType": "int64",
         "type": "integer"
        },
        {
         "name": "5x22",
         "rawType": "int64",
         "type": "integer"
        },
        {
         "name": "5x23",
         "rawType": "int64",
         "type": "integer"
        },
        {
         "name": "5x24",
         "rawType": "int64",
         "type": "integer"
        },
        {
         "name": "5x25",
         "rawType": "int64",
         "type": "integer"
        },
        {
         "name": "5x26",
         "rawType": "int64",
         "type": "integer"
        },
        {
         "name": "5x27",
         "rawType": "int64",
         "type": "integer"
        },
        {
         "name": "5x28",
         "rawType": "int64",
         "type": "integer"
        },
        {
         "name": "6x1",
         "rawType": "int64",
         "type": "integer"
        },
        {
         "name": "6x2",
         "rawType": "int64",
         "type": "integer"
        },
        {
         "name": "6x3",
         "rawType": "int64",
         "type": "integer"
        },
        {
         "name": "6x4",
         "rawType": "int64",
         "type": "integer"
        },
        {
         "name": "6x5",
         "rawType": "int64",
         "type": "integer"
        },
        {
         "name": "6x6",
         "rawType": "int64",
         "type": "integer"
        },
        {
         "name": "6x7",
         "rawType": "int64",
         "type": "integer"
        },
        {
         "name": "6x8",
         "rawType": "int64",
         "type": "integer"
        },
        {
         "name": "6x9",
         "rawType": "int64",
         "type": "integer"
        },
        {
         "name": "6x10",
         "rawType": "int64",
         "type": "integer"
        },
        {
         "name": "6x11",
         "rawType": "int64",
         "type": "integer"
        },
        {
         "name": "6x12",
         "rawType": "int64",
         "type": "integer"
        },
        {
         "name": "6x13",
         "rawType": "int64",
         "type": "integer"
        },
        {
         "name": "6x14",
         "rawType": "int64",
         "type": "integer"
        },
        {
         "name": "6x15",
         "rawType": "int64",
         "type": "integer"
        },
        {
         "name": "6x16",
         "rawType": "int64",
         "type": "integer"
        },
        {
         "name": "6x17",
         "rawType": "int64",
         "type": "integer"
        },
        {
         "name": "6x18",
         "rawType": "int64",
         "type": "integer"
        },
        {
         "name": "6x19",
         "rawType": "int64",
         "type": "integer"
        },
        {
         "name": "6x20",
         "rawType": "int64",
         "type": "integer"
        },
        {
         "name": "6x21",
         "rawType": "int64",
         "type": "integer"
        },
        {
         "name": "6x22",
         "rawType": "int64",
         "type": "integer"
        },
        {
         "name": "6x23",
         "rawType": "int64",
         "type": "integer"
        },
        {
         "name": "6x24",
         "rawType": "int64",
         "type": "integer"
        },
        {
         "name": "6x25",
         "rawType": "int64",
         "type": "integer"
        },
        {
         "name": "6x26",
         "rawType": "int64",
         "type": "integer"
        },
        {
         "name": "6x27",
         "rawType": "int64",
         "type": "integer"
        },
        {
         "name": "6x28",
         "rawType": "int64",
         "type": "integer"
        },
        {
         "name": "7x1",
         "rawType": "int64",
         "type": "integer"
        },
        {
         "name": "7x2",
         "rawType": "int64",
         "type": "integer"
        },
        {
         "name": "7x3",
         "rawType": "int64",
         "type": "integer"
        },
        {
         "name": "7x4",
         "rawType": "int64",
         "type": "integer"
        },
        {
         "name": "7x5",
         "rawType": "int64",
         "type": "integer"
        },
        {
         "name": "7x6",
         "rawType": "int64",
         "type": "integer"
        },
        {
         "name": "7x7",
         "rawType": "int64",
         "type": "integer"
        },
        {
         "name": "7x8",
         "rawType": "int64",
         "type": "integer"
        },
        {
         "name": "7x9",
         "rawType": "int64",
         "type": "integer"
        },
        {
         "name": "7x10",
         "rawType": "int64",
         "type": "integer"
        },
        {
         "name": "7x11",
         "rawType": "int64",
         "type": "integer"
        },
        {
         "name": "7x12",
         "rawType": "int64",
         "type": "integer"
        },
        {
         "name": "7x13",
         "rawType": "int64",
         "type": "integer"
        },
        {
         "name": "7x14",
         "rawType": "int64",
         "type": "integer"
        },
        {
         "name": "7x15",
         "rawType": "int64",
         "type": "integer"
        },
        {
         "name": "7x16",
         "rawType": "int64",
         "type": "integer"
        },
        {
         "name": "7x17",
         "rawType": "int64",
         "type": "integer"
        },
        {
         "name": "7x18",
         "rawType": "int64",
         "type": "integer"
        },
        {
         "name": "7x19",
         "rawType": "int64",
         "type": "integer"
        },
        {
         "name": "7x20",
         "rawType": "int64",
         "type": "integer"
        },
        {
         "name": "7x21",
         "rawType": "int64",
         "type": "integer"
        },
        {
         "name": "7x22",
         "rawType": "int64",
         "type": "integer"
        },
        {
         "name": "7x23",
         "rawType": "int64",
         "type": "integer"
        },
        {
         "name": "7x24",
         "rawType": "int64",
         "type": "integer"
        },
        {
         "name": "7x25",
         "rawType": "int64",
         "type": "integer"
        },
        {
         "name": "7x26",
         "rawType": "int64",
         "type": "integer"
        },
        {
         "name": "7x27",
         "rawType": "int64",
         "type": "integer"
        },
        {
         "name": "7x28",
         "rawType": "int64",
         "type": "integer"
        },
        {
         "name": "8x1",
         "rawType": "int64",
         "type": "integer"
        },
        {
         "name": "8x2",
         "rawType": "int64",
         "type": "integer"
        },
        {
         "name": "8x3",
         "rawType": "int64",
         "type": "integer"
        },
        {
         "name": "8x4",
         "rawType": "int64",
         "type": "integer"
        },
        {
         "name": "8x5",
         "rawType": "int64",
         "type": "integer"
        },
        {
         "name": "8x6",
         "rawType": "int64",
         "type": "integer"
        },
        {
         "name": "8x7",
         "rawType": "int64",
         "type": "integer"
        },
        {
         "name": "8x8",
         "rawType": "int64",
         "type": "integer"
        },
        {
         "name": "8x9",
         "rawType": "int64",
         "type": "integer"
        },
        {
         "name": "8x10",
         "rawType": "int64",
         "type": "integer"
        },
        {
         "name": "8x11",
         "rawType": "int64",
         "type": "integer"
        },
        {
         "name": "8x12",
         "rawType": "int64",
         "type": "integer"
        },
        {
         "name": "8x13",
         "rawType": "int64",
         "type": "integer"
        },
        {
         "name": "8x14",
         "rawType": "int64",
         "type": "integer"
        },
        {
         "name": "8x15",
         "rawType": "int64",
         "type": "integer"
        },
        {
         "name": "8x16",
         "rawType": "int64",
         "type": "integer"
        },
        {
         "name": "8x17",
         "rawType": "int64",
         "type": "integer"
        },
        {
         "name": "8x18",
         "rawType": "int64",
         "type": "integer"
        },
        {
         "name": "8x19",
         "rawType": "int64",
         "type": "integer"
        },
        {
         "name": "8x20",
         "rawType": "int64",
         "type": "integer"
        },
        {
         "name": "8x21",
         "rawType": "int64",
         "type": "integer"
        },
        {
         "name": "8x22",
         "rawType": "int64",
         "type": "integer"
        },
        {
         "name": "8x23",
         "rawType": "int64",
         "type": "integer"
        },
        {
         "name": "8x24",
         "rawType": "int64",
         "type": "integer"
        },
        {
         "name": "8x25",
         "rawType": "int64",
         "type": "integer"
        },
        {
         "name": "8x26",
         "rawType": "int64",
         "type": "integer"
        },
        {
         "name": "8x27",
         "rawType": "int64",
         "type": "integer"
        },
        {
         "name": "8x28",
         "rawType": "int64",
         "type": "integer"
        },
        {
         "name": "9x1",
         "rawType": "int64",
         "type": "integer"
        },
        {
         "name": "9x2",
         "rawType": "int64",
         "type": "integer"
        },
        {
         "name": "9x3",
         "rawType": "int64",
         "type": "integer"
        },
        {
         "name": "9x4",
         "rawType": "int64",
         "type": "integer"
        },
        {
         "name": "9x5",
         "rawType": "int64",
         "type": "integer"
        },
        {
         "name": "9x6",
         "rawType": "int64",
         "type": "integer"
        },
        {
         "name": "9x7",
         "rawType": "int64",
         "type": "integer"
        },
        {
         "name": "9x8",
         "rawType": "int64",
         "type": "integer"
        },
        {
         "name": "9x9",
         "rawType": "int64",
         "type": "integer"
        },
        {
         "name": "9x10",
         "rawType": "int64",
         "type": "integer"
        },
        {
         "name": "9x11",
         "rawType": "int64",
         "type": "integer"
        },
        {
         "name": "9x12",
         "rawType": "int64",
         "type": "integer"
        },
        {
         "name": "9x13",
         "rawType": "int64",
         "type": "integer"
        },
        {
         "name": "9x14",
         "rawType": "int64",
         "type": "integer"
        },
        {
         "name": "9x15",
         "rawType": "int64",
         "type": "integer"
        },
        {
         "name": "9x16",
         "rawType": "int64",
         "type": "integer"
        },
        {
         "name": "9x17",
         "rawType": "int64",
         "type": "integer"
        },
        {
         "name": "9x18",
         "rawType": "int64",
         "type": "integer"
        },
        {
         "name": "9x19",
         "rawType": "int64",
         "type": "integer"
        },
        {
         "name": "9x20",
         "rawType": "int64",
         "type": "integer"
        },
        {
         "name": "9x21",
         "rawType": "int64",
         "type": "integer"
        },
        {
         "name": "9x22",
         "rawType": "int64",
         "type": "integer"
        },
        {
         "name": "9x23",
         "rawType": "int64",
         "type": "integer"
        },
        {
         "name": "9x24",
         "rawType": "int64",
         "type": "integer"
        },
        {
         "name": "9x25",
         "rawType": "int64",
         "type": "integer"
        },
        {
         "name": "9x26",
         "rawType": "int64",
         "type": "integer"
        },
        {
         "name": "9x27",
         "rawType": "int64",
         "type": "integer"
        },
        {
         "name": "9x28",
         "rawType": "int64",
         "type": "integer"
        },
        {
         "name": "10x1",
         "rawType": "int64",
         "type": "integer"
        },
        {
         "name": "10x2",
         "rawType": "int64",
         "type": "integer"
        },
        {
         "name": "10x3",
         "rawType": "int64",
         "type": "integer"
        },
        {
         "name": "10x4",
         "rawType": "int64",
         "type": "integer"
        },
        {
         "name": "10x5",
         "rawType": "int64",
         "type": "integer"
        },
        {
         "name": "10x6",
         "rawType": "int64",
         "type": "integer"
        },
        {
         "name": "10x7",
         "rawType": "int64",
         "type": "integer"
        },
        {
         "name": "10x8",
         "rawType": "int64",
         "type": "integer"
        },
        {
         "name": "10x9",
         "rawType": "int64",
         "type": "integer"
        },
        {
         "name": "10x10",
         "rawType": "int64",
         "type": "integer"
        },
        {
         "name": "10x11",
         "rawType": "int64",
         "type": "integer"
        },
        {
         "name": "10x12",
         "rawType": "int64",
         "type": "integer"
        },
        {
         "name": "10x13",
         "rawType": "int64",
         "type": "integer"
        },
        {
         "name": "10x14",
         "rawType": "int64",
         "type": "integer"
        },
        {
         "name": "10x15",
         "rawType": "int64",
         "type": "integer"
        },
        {
         "name": "10x16",
         "rawType": "int64",
         "type": "integer"
        },
        {
         "name": "10x17",
         "rawType": "int64",
         "type": "integer"
        },
        {
         "name": "10x18",
         "rawType": "int64",
         "type": "integer"
        },
        {
         "name": "10x19",
         "rawType": "int64",
         "type": "integer"
        },
        {
         "name": "10x20",
         "rawType": "int64",
         "type": "integer"
        },
        {
         "name": "10x21",
         "rawType": "int64",
         "type": "integer"
        },
        {
         "name": "10x22",
         "rawType": "int64",
         "type": "integer"
        },
        {
         "name": "10x23",
         "rawType": "int64",
         "type": "integer"
        },
        {
         "name": "10x24",
         "rawType": "int64",
         "type": "integer"
        },
        {
         "name": "10x25",
         "rawType": "int64",
         "type": "integer"
        },
        {
         "name": "10x26",
         "rawType": "int64",
         "type": "integer"
        },
        {
         "name": "10x27",
         "rawType": "int64",
         "type": "integer"
        },
        {
         "name": "10x28",
         "rawType": "int64",
         "type": "integer"
        },
        {
         "name": "11x1",
         "rawType": "int64",
         "type": "integer"
        },
        {
         "name": "11x2",
         "rawType": "int64",
         "type": "integer"
        },
        {
         "name": "11x3",
         "rawType": "int64",
         "type": "integer"
        },
        {
         "name": "11x4",
         "rawType": "int64",
         "type": "integer"
        },
        {
         "name": "11x5",
         "rawType": "int64",
         "type": "integer"
        },
        {
         "name": "11x6",
         "rawType": "int64",
         "type": "integer"
        },
        {
         "name": "11x7",
         "rawType": "int64",
         "type": "integer"
        },
        {
         "name": "11x8",
         "rawType": "int64",
         "type": "integer"
        },
        {
         "name": "11x9",
         "rawType": "int64",
         "type": "integer"
        },
        {
         "name": "11x10",
         "rawType": "int64",
         "type": "integer"
        },
        {
         "name": "11x11",
         "rawType": "int64",
         "type": "integer"
        },
        {
         "name": "11x12",
         "rawType": "int64",
         "type": "integer"
        },
        {
         "name": "11x13",
         "rawType": "int64",
         "type": "integer"
        },
        {
         "name": "11x14",
         "rawType": "int64",
         "type": "integer"
        },
        {
         "name": "11x15",
         "rawType": "int64",
         "type": "integer"
        },
        {
         "name": "11x16",
         "rawType": "int64",
         "type": "integer"
        },
        {
         "name": "11x17",
         "rawType": "int64",
         "type": "integer"
        },
        {
         "name": "11x18",
         "rawType": "int64",
         "type": "integer"
        },
        {
         "name": "11x19",
         "rawType": "int64",
         "type": "integer"
        },
        {
         "name": "11x20",
         "rawType": "int64",
         "type": "integer"
        },
        {
         "name": "11x21",
         "rawType": "int64",
         "type": "integer"
        },
        {
         "name": "11x22",
         "rawType": "int64",
         "type": "integer"
        },
        {
         "name": "11x23",
         "rawType": "int64",
         "type": "integer"
        },
        {
         "name": "11x24",
         "rawType": "int64",
         "type": "integer"
        },
        {
         "name": "11x25",
         "rawType": "int64",
         "type": "integer"
        },
        {
         "name": "11x26",
         "rawType": "int64",
         "type": "integer"
        },
        {
         "name": "11x27",
         "rawType": "int64",
         "type": "integer"
        },
        {
         "name": "11x28",
         "rawType": "int64",
         "type": "integer"
        },
        {
         "name": "12x1",
         "rawType": "int64",
         "type": "integer"
        },
        {
         "name": "12x2",
         "rawType": "int64",
         "type": "integer"
        },
        {
         "name": "12x3",
         "rawType": "int64",
         "type": "integer"
        },
        {
         "name": "12x4",
         "rawType": "int64",
         "type": "integer"
        },
        {
         "name": "12x5",
         "rawType": "int64",
         "type": "integer"
        },
        {
         "name": "12x6",
         "rawType": "int64",
         "type": "integer"
        },
        {
         "name": "12x7",
         "rawType": "int64",
         "type": "integer"
        },
        {
         "name": "12x8",
         "rawType": "int64",
         "type": "integer"
        },
        {
         "name": "12x9",
         "rawType": "int64",
         "type": "integer"
        },
        {
         "name": "12x10",
         "rawType": "int64",
         "type": "integer"
        },
        {
         "name": "12x11",
         "rawType": "int64",
         "type": "integer"
        },
        {
         "name": "12x12",
         "rawType": "int64",
         "type": "integer"
        },
        {
         "name": "12x13",
         "rawType": "int64",
         "type": "integer"
        },
        {
         "name": "12x14",
         "rawType": "int64",
         "type": "integer"
        },
        {
         "name": "12x15",
         "rawType": "int64",
         "type": "integer"
        },
        {
         "name": "12x16",
         "rawType": "int64",
         "type": "integer"
        },
        {
         "name": "12x17",
         "rawType": "int64",
         "type": "integer"
        },
        {
         "name": "12x18",
         "rawType": "int64",
         "type": "integer"
        },
        {
         "name": "12x19",
         "rawType": "int64",
         "type": "integer"
        },
        {
         "name": "12x20",
         "rawType": "int64",
         "type": "integer"
        },
        {
         "name": "12x21",
         "rawType": "int64",
         "type": "integer"
        },
        {
         "name": "12x22",
         "rawType": "int64",
         "type": "integer"
        },
        {
         "name": "12x23",
         "rawType": "int64",
         "type": "integer"
        },
        {
         "name": "12x24",
         "rawType": "int64",
         "type": "integer"
        },
        {
         "name": "12x25",
         "rawType": "int64",
         "type": "integer"
        },
        {
         "name": "12x26",
         "rawType": "int64",
         "type": "integer"
        },
        {
         "name": "12x27",
         "rawType": "int64",
         "type": "integer"
        },
        {
         "name": "12x28",
         "rawType": "int64",
         "type": "integer"
        },
        {
         "name": "13x1",
         "rawType": "int64",
         "type": "integer"
        },
        {
         "name": "13x2",
         "rawType": "int64",
         "type": "integer"
        },
        {
         "name": "13x3",
         "rawType": "int64",
         "type": "integer"
        },
        {
         "name": "13x4",
         "rawType": "int64",
         "type": "integer"
        },
        {
         "name": "13x5",
         "rawType": "int64",
         "type": "integer"
        },
        {
         "name": "13x6",
         "rawType": "int64",
         "type": "integer"
        },
        {
         "name": "13x7",
         "rawType": "int64",
         "type": "integer"
        },
        {
         "name": "13x8",
         "rawType": "int64",
         "type": "integer"
        },
        {
         "name": "13x9",
         "rawType": "int64",
         "type": "integer"
        },
        {
         "name": "13x10",
         "rawType": "int64",
         "type": "integer"
        },
        {
         "name": "13x11",
         "rawType": "int64",
         "type": "integer"
        },
        {
         "name": "13x12",
         "rawType": "int64",
         "type": "integer"
        },
        {
         "name": "13x13",
         "rawType": "int64",
         "type": "integer"
        },
        {
         "name": "13x14",
         "rawType": "int64",
         "type": "integer"
        },
        {
         "name": "13x15",
         "rawType": "int64",
         "type": "integer"
        },
        {
         "name": "13x16",
         "rawType": "int64",
         "type": "integer"
        },
        {
         "name": "13x17",
         "rawType": "int64",
         "type": "integer"
        },
        {
         "name": "13x18",
         "rawType": "int64",
         "type": "integer"
        },
        {
         "name": "13x19",
         "rawType": "int64",
         "type": "integer"
        },
        {
         "name": "13x20",
         "rawType": "int64",
         "type": "integer"
        },
        {
         "name": "13x21",
         "rawType": "int64",
         "type": "integer"
        },
        {
         "name": "13x22",
         "rawType": "int64",
         "type": "integer"
        },
        {
         "name": "13x23",
         "rawType": "int64",
         "type": "integer"
        },
        {
         "name": "13x24",
         "rawType": "int64",
         "type": "integer"
        },
        {
         "name": "13x25",
         "rawType": "int64",
         "type": "integer"
        },
        {
         "name": "13x26",
         "rawType": "int64",
         "type": "integer"
        },
        {
         "name": "13x27",
         "rawType": "int64",
         "type": "integer"
        },
        {
         "name": "13x28",
         "rawType": "int64",
         "type": "integer"
        },
        {
         "name": "14x1",
         "rawType": "int64",
         "type": "integer"
        },
        {
         "name": "14x2",
         "rawType": "int64",
         "type": "integer"
        },
        {
         "name": "14x3",
         "rawType": "int64",
         "type": "integer"
        },
        {
         "name": "14x4",
         "rawType": "int64",
         "type": "integer"
        },
        {
         "name": "14x5",
         "rawType": "int64",
         "type": "integer"
        },
        {
         "name": "14x6",
         "rawType": "int64",
         "type": "integer"
        },
        {
         "name": "14x7",
         "rawType": "int64",
         "type": "integer"
        },
        {
         "name": "14x8",
         "rawType": "int64",
         "type": "integer"
        },
        {
         "name": "14x9",
         "rawType": "int64",
         "type": "integer"
        },
        {
         "name": "14x10",
         "rawType": "int64",
         "type": "integer"
        },
        {
         "name": "14x11",
         "rawType": "int64",
         "type": "integer"
        },
        {
         "name": "14x12",
         "rawType": "int64",
         "type": "integer"
        },
        {
         "name": "14x13",
         "rawType": "int64",
         "type": "integer"
        },
        {
         "name": "14x14",
         "rawType": "int64",
         "type": "integer"
        },
        {
         "name": "14x15",
         "rawType": "int64",
         "type": "integer"
        },
        {
         "name": "14x16",
         "rawType": "int64",
         "type": "integer"
        },
        {
         "name": "14x17",
         "rawType": "int64",
         "type": "integer"
        },
        {
         "name": "14x18",
         "rawType": "int64",
         "type": "integer"
        },
        {
         "name": "14x19",
         "rawType": "int64",
         "type": "integer"
        },
        {
         "name": "14x20",
         "rawType": "int64",
         "type": "integer"
        },
        {
         "name": "14x21",
         "rawType": "int64",
         "type": "integer"
        },
        {
         "name": "14x22",
         "rawType": "int64",
         "type": "integer"
        },
        {
         "name": "14x23",
         "rawType": "int64",
         "type": "integer"
        },
        {
         "name": "14x24",
         "rawType": "int64",
         "type": "integer"
        },
        {
         "name": "14x25",
         "rawType": "int64",
         "type": "integer"
        },
        {
         "name": "14x26",
         "rawType": "int64",
         "type": "integer"
        },
        {
         "name": "14x27",
         "rawType": "int64",
         "type": "integer"
        },
        {
         "name": "14x28",
         "rawType": "int64",
         "type": "integer"
        },
        {
         "name": "15x1",
         "rawType": "int64",
         "type": "integer"
        },
        {
         "name": "15x2",
         "rawType": "int64",
         "type": "integer"
        },
        {
         "name": "15x3",
         "rawType": "int64",
         "type": "integer"
        },
        {
         "name": "15x4",
         "rawType": "int64",
         "type": "integer"
        },
        {
         "name": "15x5",
         "rawType": "int64",
         "type": "integer"
        },
        {
         "name": "15x6",
         "rawType": "int64",
         "type": "integer"
        },
        {
         "name": "15x7",
         "rawType": "int64",
         "type": "integer"
        },
        {
         "name": "15x8",
         "rawType": "int64",
         "type": "integer"
        },
        {
         "name": "15x9",
         "rawType": "int64",
         "type": "integer"
        },
        {
         "name": "15x10",
         "rawType": "int64",
         "type": "integer"
        },
        {
         "name": "15x11",
         "rawType": "int64",
         "type": "integer"
        },
        {
         "name": "15x12",
         "rawType": "int64",
         "type": "integer"
        },
        {
         "name": "15x13",
         "rawType": "int64",
         "type": "integer"
        },
        {
         "name": "15x14",
         "rawType": "int64",
         "type": "integer"
        },
        {
         "name": "15x15",
         "rawType": "int64",
         "type": "integer"
        },
        {
         "name": "15x16",
         "rawType": "int64",
         "type": "integer"
        },
        {
         "name": "15x17",
         "rawType": "int64",
         "type": "integer"
        },
        {
         "name": "15x18",
         "rawType": "int64",
         "type": "integer"
        },
        {
         "name": "15x19",
         "rawType": "int64",
         "type": "integer"
        },
        {
         "name": "15x20",
         "rawType": "int64",
         "type": "integer"
        },
        {
         "name": "15x21",
         "rawType": "int64",
         "type": "integer"
        },
        {
         "name": "15x22",
         "rawType": "int64",
         "type": "integer"
        },
        {
         "name": "15x23",
         "rawType": "int64",
         "type": "integer"
        },
        {
         "name": "15x24",
         "rawType": "int64",
         "type": "integer"
        },
        {
         "name": "15x25",
         "rawType": "int64",
         "type": "integer"
        },
        {
         "name": "15x26",
         "rawType": "int64",
         "type": "integer"
        },
        {
         "name": "15x27",
         "rawType": "int64",
         "type": "integer"
        },
        {
         "name": "15x28",
         "rawType": "int64",
         "type": "integer"
        },
        {
         "name": "16x1",
         "rawType": "int64",
         "type": "integer"
        },
        {
         "name": "16x2",
         "rawType": "int64",
         "type": "integer"
        },
        {
         "name": "16x3",
         "rawType": "int64",
         "type": "integer"
        },
        {
         "name": "16x4",
         "rawType": "int64",
         "type": "integer"
        },
        {
         "name": "16x5",
         "rawType": "int64",
         "type": "integer"
        },
        {
         "name": "16x6",
         "rawType": "int64",
         "type": "integer"
        },
        {
         "name": "16x7",
         "rawType": "int64",
         "type": "integer"
        },
        {
         "name": "16x8",
         "rawType": "int64",
         "type": "integer"
        },
        {
         "name": "16x9",
         "rawType": "int64",
         "type": "integer"
        },
        {
         "name": "16x10",
         "rawType": "int64",
         "type": "integer"
        },
        {
         "name": "16x11",
         "rawType": "int64",
         "type": "integer"
        },
        {
         "name": "16x12",
         "rawType": "int64",
         "type": "integer"
        },
        {
         "name": "16x13",
         "rawType": "int64",
         "type": "integer"
        },
        {
         "name": "16x14",
         "rawType": "int64",
         "type": "integer"
        },
        {
         "name": "16x15",
         "rawType": "int64",
         "type": "integer"
        },
        {
         "name": "16x16",
         "rawType": "int64",
         "type": "integer"
        },
        {
         "name": "16x17",
         "rawType": "int64",
         "type": "integer"
        },
        {
         "name": "16x18",
         "rawType": "int64",
         "type": "integer"
        },
        {
         "name": "16x19",
         "rawType": "int64",
         "type": "integer"
        },
        {
         "name": "16x20",
         "rawType": "int64",
         "type": "integer"
        },
        {
         "name": "16x21",
         "rawType": "int64",
         "type": "integer"
        },
        {
         "name": "16x22",
         "rawType": "int64",
         "type": "integer"
        },
        {
         "name": "16x23",
         "rawType": "int64",
         "type": "integer"
        },
        {
         "name": "16x24",
         "rawType": "int64",
         "type": "integer"
        },
        {
         "name": "16x25",
         "rawType": "int64",
         "type": "integer"
        },
        {
         "name": "16x26",
         "rawType": "int64",
         "type": "integer"
        },
        {
         "name": "16x27",
         "rawType": "int64",
         "type": "integer"
        },
        {
         "name": "16x28",
         "rawType": "int64",
         "type": "integer"
        },
        {
         "name": "17x1",
         "rawType": "int64",
         "type": "integer"
        },
        {
         "name": "17x2",
         "rawType": "int64",
         "type": "integer"
        },
        {
         "name": "17x3",
         "rawType": "int64",
         "type": "integer"
        },
        {
         "name": "17x4",
         "rawType": "int64",
         "type": "integer"
        },
        {
         "name": "17x5",
         "rawType": "int64",
         "type": "integer"
        },
        {
         "name": "17x6",
         "rawType": "int64",
         "type": "integer"
        },
        {
         "name": "17x7",
         "rawType": "int64",
         "type": "integer"
        },
        {
         "name": "17x8",
         "rawType": "int64",
         "type": "integer"
        },
        {
         "name": "17x9",
         "rawType": "int64",
         "type": "integer"
        },
        {
         "name": "17x10",
         "rawType": "int64",
         "type": "integer"
        },
        {
         "name": "17x11",
         "rawType": "int64",
         "type": "integer"
        },
        {
         "name": "17x12",
         "rawType": "int64",
         "type": "integer"
        },
        {
         "name": "17x13",
         "rawType": "int64",
         "type": "integer"
        },
        {
         "name": "17x14",
         "rawType": "int64",
         "type": "integer"
        },
        {
         "name": "17x15",
         "rawType": "int64",
         "type": "integer"
        },
        {
         "name": "17x16",
         "rawType": "int64",
         "type": "integer"
        },
        {
         "name": "17x17",
         "rawType": "int64",
         "type": "integer"
        },
        {
         "name": "17x18",
         "rawType": "int64",
         "type": "integer"
        },
        {
         "name": "17x19",
         "rawType": "int64",
         "type": "integer"
        },
        {
         "name": "17x20",
         "rawType": "int64",
         "type": "integer"
        },
        {
         "name": "17x21",
         "rawType": "int64",
         "type": "integer"
        },
        {
         "name": "17x22",
         "rawType": "int64",
         "type": "integer"
        },
        {
         "name": "17x23",
         "rawType": "int64",
         "type": "integer"
        },
        {
         "name": "17x24",
         "rawType": "int64",
         "type": "integer"
        },
        {
         "name": "17x25",
         "rawType": "int64",
         "type": "integer"
        },
        {
         "name": "17x26",
         "rawType": "int64",
         "type": "integer"
        },
        {
         "name": "17x27",
         "rawType": "int64",
         "type": "integer"
        },
        {
         "name": "17x28",
         "rawType": "int64",
         "type": "integer"
        },
        {
         "name": "18x1",
         "rawType": "int64",
         "type": "integer"
        },
        {
         "name": "18x2",
         "rawType": "int64",
         "type": "integer"
        },
        {
         "name": "18x3",
         "rawType": "int64",
         "type": "integer"
        },
        {
         "name": "18x4",
         "rawType": "int64",
         "type": "integer"
        },
        {
         "name": "18x5",
         "rawType": "int64",
         "type": "integer"
        },
        {
         "name": "18x6",
         "rawType": "int64",
         "type": "integer"
        },
        {
         "name": "18x7",
         "rawType": "int64",
         "type": "integer"
        },
        {
         "name": "18x8",
         "rawType": "int64",
         "type": "integer"
        },
        {
         "name": "18x9",
         "rawType": "int64",
         "type": "integer"
        },
        {
         "name": "18x10",
         "rawType": "int64",
         "type": "integer"
        },
        {
         "name": "18x11",
         "rawType": "int64",
         "type": "integer"
        },
        {
         "name": "18x12",
         "rawType": "int64",
         "type": "integer"
        },
        {
         "name": "18x13",
         "rawType": "int64",
         "type": "integer"
        },
        {
         "name": "18x14",
         "rawType": "int64",
         "type": "integer"
        },
        {
         "name": "18x15",
         "rawType": "int64",
         "type": "integer"
        },
        {
         "name": "18x16",
         "rawType": "int64",
         "type": "integer"
        },
        {
         "name": "18x17",
         "rawType": "int64",
         "type": "integer"
        },
        {
         "name": "18x18",
         "rawType": "int64",
         "type": "integer"
        },
        {
         "name": "18x19",
         "rawType": "int64",
         "type": "integer"
        },
        {
         "name": "18x20",
         "rawType": "int64",
         "type": "integer"
        },
        {
         "name": "18x21",
         "rawType": "int64",
         "type": "integer"
        },
        {
         "name": "18x22",
         "rawType": "int64",
         "type": "integer"
        },
        {
         "name": "18x23",
         "rawType": "int64",
         "type": "integer"
        },
        {
         "name": "18x24",
         "rawType": "int64",
         "type": "integer"
        },
        {
         "name": "18x25",
         "rawType": "int64",
         "type": "integer"
        },
        {
         "name": "18x26",
         "rawType": "int64",
         "type": "integer"
        },
        {
         "name": "18x27",
         "rawType": "int64",
         "type": "integer"
        },
        {
         "name": "18x28",
         "rawType": "int64",
         "type": "integer"
        },
        {
         "name": "19x1",
         "rawType": "int64",
         "type": "integer"
        },
        {
         "name": "19x2",
         "rawType": "int64",
         "type": "integer"
        },
        {
         "name": "19x3",
         "rawType": "int64",
         "type": "integer"
        },
        {
         "name": "19x4",
         "rawType": "int64",
         "type": "integer"
        },
        {
         "name": "19x5",
         "rawType": "int64",
         "type": "integer"
        },
        {
         "name": "19x6",
         "rawType": "int64",
         "type": "integer"
        },
        {
         "name": "19x7",
         "rawType": "int64",
         "type": "integer"
        },
        {
         "name": "19x8",
         "rawType": "int64",
         "type": "integer"
        },
        {
         "name": "19x9",
         "rawType": "int64",
         "type": "integer"
        },
        {
         "name": "19x10",
         "rawType": "int64",
         "type": "integer"
        },
        {
         "name": "19x11",
         "rawType": "int64",
         "type": "integer"
        },
        {
         "name": "19x12",
         "rawType": "int64",
         "type": "integer"
        },
        {
         "name": "19x13",
         "rawType": "int64",
         "type": "integer"
        },
        {
         "name": "19x14",
         "rawType": "int64",
         "type": "integer"
        },
        {
         "name": "19x15",
         "rawType": "int64",
         "type": "integer"
        },
        {
         "name": "19x16",
         "rawType": "int64",
         "type": "integer"
        },
        {
         "name": "19x17",
         "rawType": "int64",
         "type": "integer"
        },
        {
         "name": "19x18",
         "rawType": "int64",
         "type": "integer"
        },
        {
         "name": "19x19",
         "rawType": "int64",
         "type": "integer"
        },
        {
         "name": "19x20",
         "rawType": "int64",
         "type": "integer"
        },
        {
         "name": "19x21",
         "rawType": "int64",
         "type": "integer"
        },
        {
         "name": "19x22",
         "rawType": "int64",
         "type": "integer"
        },
        {
         "name": "19x23",
         "rawType": "int64",
         "type": "integer"
        },
        {
         "name": "19x24",
         "rawType": "int64",
         "type": "integer"
        },
        {
         "name": "19x25",
         "rawType": "int64",
         "type": "integer"
        },
        {
         "name": "19x26",
         "rawType": "int64",
         "type": "integer"
        },
        {
         "name": "19x27",
         "rawType": "int64",
         "type": "integer"
        },
        {
         "name": "19x28",
         "rawType": "int64",
         "type": "integer"
        },
        {
         "name": "20x1",
         "rawType": "int64",
         "type": "integer"
        },
        {
         "name": "20x2",
         "rawType": "int64",
         "type": "integer"
        },
        {
         "name": "20x3",
         "rawType": "int64",
         "type": "integer"
        },
        {
         "name": "20x4",
         "rawType": "int64",
         "type": "integer"
        },
        {
         "name": "20x5",
         "rawType": "int64",
         "type": "integer"
        },
        {
         "name": "20x6",
         "rawType": "int64",
         "type": "integer"
        },
        {
         "name": "20x7",
         "rawType": "int64",
         "type": "integer"
        },
        {
         "name": "20x8",
         "rawType": "int64",
         "type": "integer"
        },
        {
         "name": "20x9",
         "rawType": "int64",
         "type": "integer"
        },
        {
         "name": "20x10",
         "rawType": "int64",
         "type": "integer"
        },
        {
         "name": "20x11",
         "rawType": "int64",
         "type": "integer"
        },
        {
         "name": "20x12",
         "rawType": "int64",
         "type": "integer"
        },
        {
         "name": "20x13",
         "rawType": "int64",
         "type": "integer"
        },
        {
         "name": "20x14",
         "rawType": "int64",
         "type": "integer"
        },
        {
         "name": "20x15",
         "rawType": "int64",
         "type": "integer"
        },
        {
         "name": "20x16",
         "rawType": "int64",
         "type": "integer"
        },
        {
         "name": "20x17",
         "rawType": "int64",
         "type": "integer"
        },
        {
         "name": "20x18",
         "rawType": "int64",
         "type": "integer"
        },
        {
         "name": "20x19",
         "rawType": "int64",
         "type": "integer"
        },
        {
         "name": "20x20",
         "rawType": "int64",
         "type": "integer"
        },
        {
         "name": "20x21",
         "rawType": "int64",
         "type": "integer"
        },
        {
         "name": "20x22",
         "rawType": "int64",
         "type": "integer"
        },
        {
         "name": "20x23",
         "rawType": "int64",
         "type": "integer"
        },
        {
         "name": "20x24",
         "rawType": "int64",
         "type": "integer"
        },
        {
         "name": "20x25",
         "rawType": "int64",
         "type": "integer"
        },
        {
         "name": "20x26",
         "rawType": "int64",
         "type": "integer"
        },
        {
         "name": "20x27",
         "rawType": "int64",
         "type": "integer"
        },
        {
         "name": "20x28",
         "rawType": "int64",
         "type": "integer"
        },
        {
         "name": "21x1",
         "rawType": "int64",
         "type": "integer"
        },
        {
         "name": "21x2",
         "rawType": "int64",
         "type": "integer"
        },
        {
         "name": "21x3",
         "rawType": "int64",
         "type": "integer"
        },
        {
         "name": "21x4",
         "rawType": "int64",
         "type": "integer"
        },
        {
         "name": "21x5",
         "rawType": "int64",
         "type": "integer"
        },
        {
         "name": "21x6",
         "rawType": "int64",
         "type": "integer"
        },
        {
         "name": "21x7",
         "rawType": "int64",
         "type": "integer"
        },
        {
         "name": "21x8",
         "rawType": "int64",
         "type": "integer"
        },
        {
         "name": "21x9",
         "rawType": "int64",
         "type": "integer"
        },
        {
         "name": "21x10",
         "rawType": "int64",
         "type": "integer"
        },
        {
         "name": "21x11",
         "rawType": "int64",
         "type": "integer"
        },
        {
         "name": "21x12",
         "rawType": "int64",
         "type": "integer"
        },
        {
         "name": "21x13",
         "rawType": "int64",
         "type": "integer"
        },
        {
         "name": "21x14",
         "rawType": "int64",
         "type": "integer"
        },
        {
         "name": "21x15",
         "rawType": "int64",
         "type": "integer"
        },
        {
         "name": "21x16",
         "rawType": "int64",
         "type": "integer"
        },
        {
         "name": "21x17",
         "rawType": "int64",
         "type": "integer"
        },
        {
         "name": "21x18",
         "rawType": "int64",
         "type": "integer"
        },
        {
         "name": "21x19",
         "rawType": "int64",
         "type": "integer"
        },
        {
         "name": "21x20",
         "rawType": "int64",
         "type": "integer"
        },
        {
         "name": "21x21",
         "rawType": "int64",
         "type": "integer"
        },
        {
         "name": "21x22",
         "rawType": "int64",
         "type": "integer"
        },
        {
         "name": "21x23",
         "rawType": "int64",
         "type": "integer"
        },
        {
         "name": "21x24",
         "rawType": "int64",
         "type": "integer"
        },
        {
         "name": "21x25",
         "rawType": "int64",
         "type": "integer"
        },
        {
         "name": "21x26",
         "rawType": "int64",
         "type": "integer"
        },
        {
         "name": "21x27",
         "rawType": "int64",
         "type": "integer"
        },
        {
         "name": "21x28",
         "rawType": "int64",
         "type": "integer"
        },
        {
         "name": "22x1",
         "rawType": "int64",
         "type": "integer"
        },
        {
         "name": "22x2",
         "rawType": "int64",
         "type": "integer"
        },
        {
         "name": "22x3",
         "rawType": "int64",
         "type": "integer"
        },
        {
         "name": "22x4",
         "rawType": "int64",
         "type": "integer"
        },
        {
         "name": "22x5",
         "rawType": "int64",
         "type": "integer"
        },
        {
         "name": "22x6",
         "rawType": "int64",
         "type": "integer"
        },
        {
         "name": "22x7",
         "rawType": "int64",
         "type": "integer"
        },
        {
         "name": "22x8",
         "rawType": "int64",
         "type": "integer"
        },
        {
         "name": "22x9",
         "rawType": "int64",
         "type": "integer"
        },
        {
         "name": "22x10",
         "rawType": "int64",
         "type": "integer"
        },
        {
         "name": "22x11",
         "rawType": "int64",
         "type": "integer"
        },
        {
         "name": "22x12",
         "rawType": "int64",
         "type": "integer"
        },
        {
         "name": "22x13",
         "rawType": "int64",
         "type": "integer"
        },
        {
         "name": "22x14",
         "rawType": "int64",
         "type": "integer"
        },
        {
         "name": "22x15",
         "rawType": "int64",
         "type": "integer"
        },
        {
         "name": "22x16",
         "rawType": "int64",
         "type": "integer"
        },
        {
         "name": "22x17",
         "rawType": "int64",
         "type": "integer"
        },
        {
         "name": "22x18",
         "rawType": "int64",
         "type": "integer"
        },
        {
         "name": "22x19",
         "rawType": "int64",
         "type": "integer"
        },
        {
         "name": "22x20",
         "rawType": "int64",
         "type": "integer"
        },
        {
         "name": "22x21",
         "rawType": "int64",
         "type": "integer"
        },
        {
         "name": "22x22",
         "rawType": "int64",
         "type": "integer"
        },
        {
         "name": "22x23",
         "rawType": "int64",
         "type": "integer"
        },
        {
         "name": "22x24",
         "rawType": "int64",
         "type": "integer"
        },
        {
         "name": "22x25",
         "rawType": "int64",
         "type": "integer"
        },
        {
         "name": "22x26",
         "rawType": "int64",
         "type": "integer"
        },
        {
         "name": "22x27",
         "rawType": "int64",
         "type": "integer"
        },
        {
         "name": "22x28",
         "rawType": "int64",
         "type": "integer"
        },
        {
         "name": "23x1",
         "rawType": "int64",
         "type": "integer"
        },
        {
         "name": "23x2",
         "rawType": "int64",
         "type": "integer"
        },
        {
         "name": "23x3",
         "rawType": "int64",
         "type": "integer"
        },
        {
         "name": "23x4",
         "rawType": "int64",
         "type": "integer"
        },
        {
         "name": "23x5",
         "rawType": "int64",
         "type": "integer"
        },
        {
         "name": "23x6",
         "rawType": "int64",
         "type": "integer"
        },
        {
         "name": "23x7",
         "rawType": "int64",
         "type": "integer"
        },
        {
         "name": "23x8",
         "rawType": "int64",
         "type": "integer"
        },
        {
         "name": "23x9",
         "rawType": "int64",
         "type": "integer"
        },
        {
         "name": "23x10",
         "rawType": "int64",
         "type": "integer"
        },
        {
         "name": "23x11",
         "rawType": "int64",
         "type": "integer"
        },
        {
         "name": "23x12",
         "rawType": "int64",
         "type": "integer"
        },
        {
         "name": "23x13",
         "rawType": "int64",
         "type": "integer"
        },
        {
         "name": "23x14",
         "rawType": "int64",
         "type": "integer"
        },
        {
         "name": "23x15",
         "rawType": "int64",
         "type": "integer"
        },
        {
         "name": "23x16",
         "rawType": "int64",
         "type": "integer"
        },
        {
         "name": "23x17",
         "rawType": "int64",
         "type": "integer"
        },
        {
         "name": "23x18",
         "rawType": "int64",
         "type": "integer"
        },
        {
         "name": "23x19",
         "rawType": "int64",
         "type": "integer"
        },
        {
         "name": "23x20",
         "rawType": "int64",
         "type": "integer"
        },
        {
         "name": "23x21",
         "rawType": "int64",
         "type": "integer"
        },
        {
         "name": "23x22",
         "rawType": "int64",
         "type": "integer"
        },
        {
         "name": "23x23",
         "rawType": "int64",
         "type": "integer"
        },
        {
         "name": "23x24",
         "rawType": "int64",
         "type": "integer"
        },
        {
         "name": "23x25",
         "rawType": "int64",
         "type": "integer"
        },
        {
         "name": "23x26",
         "rawType": "int64",
         "type": "integer"
        },
        {
         "name": "23x27",
         "rawType": "int64",
         "type": "integer"
        },
        {
         "name": "23x28",
         "rawType": "int64",
         "type": "integer"
        },
        {
         "name": "24x1",
         "rawType": "int64",
         "type": "integer"
        },
        {
         "name": "24x2",
         "rawType": "int64",
         "type": "integer"
        },
        {
         "name": "24x3",
         "rawType": "int64",
         "type": "integer"
        },
        {
         "name": "24x4",
         "rawType": "int64",
         "type": "integer"
        },
        {
         "name": "24x5",
         "rawType": "int64",
         "type": "integer"
        },
        {
         "name": "24x6",
         "rawType": "int64",
         "type": "integer"
        },
        {
         "name": "24x7",
         "rawType": "int64",
         "type": "integer"
        },
        {
         "name": "24x8",
         "rawType": "int64",
         "type": "integer"
        },
        {
         "name": "24x9",
         "rawType": "int64",
         "type": "integer"
        },
        {
         "name": "24x10",
         "rawType": "int64",
         "type": "integer"
        },
        {
         "name": "24x11",
         "rawType": "int64",
         "type": "integer"
        },
        {
         "name": "24x12",
         "rawType": "int64",
         "type": "integer"
        },
        {
         "name": "24x13",
         "rawType": "int64",
         "type": "integer"
        },
        {
         "name": "24x14",
         "rawType": "int64",
         "type": "integer"
        },
        {
         "name": "24x15",
         "rawType": "int64",
         "type": "integer"
        },
        {
         "name": "24x16",
         "rawType": "int64",
         "type": "integer"
        },
        {
         "name": "24x17",
         "rawType": "int64",
         "type": "integer"
        },
        {
         "name": "24x18",
         "rawType": "int64",
         "type": "integer"
        },
        {
         "name": "24x19",
         "rawType": "int64",
         "type": "integer"
        },
        {
         "name": "24x20",
         "rawType": "int64",
         "type": "integer"
        },
        {
         "name": "24x21",
         "rawType": "int64",
         "type": "integer"
        },
        {
         "name": "24x22",
         "rawType": "int64",
         "type": "integer"
        },
        {
         "name": "24x23",
         "rawType": "int64",
         "type": "integer"
        },
        {
         "name": "24x24",
         "rawType": "int64",
         "type": "integer"
        },
        {
         "name": "24x25",
         "rawType": "int64",
         "type": "integer"
        },
        {
         "name": "24x26",
         "rawType": "int64",
         "type": "integer"
        },
        {
         "name": "24x27",
         "rawType": "int64",
         "type": "integer"
        },
        {
         "name": "24x28",
         "rawType": "int64",
         "type": "integer"
        },
        {
         "name": "25x1",
         "rawType": "int64",
         "type": "integer"
        },
        {
         "name": "25x2",
         "rawType": "int64",
         "type": "integer"
        },
        {
         "name": "25x3",
         "rawType": "int64",
         "type": "integer"
        },
        {
         "name": "25x4",
         "rawType": "int64",
         "type": "integer"
        },
        {
         "name": "25x5",
         "rawType": "int64",
         "type": "integer"
        },
        {
         "name": "25x6",
         "rawType": "int64",
         "type": "integer"
        },
        {
         "name": "25x7",
         "rawType": "int64",
         "type": "integer"
        },
        {
         "name": "25x8",
         "rawType": "int64",
         "type": "integer"
        },
        {
         "name": "25x9",
         "rawType": "int64",
         "type": "integer"
        },
        {
         "name": "25x10",
         "rawType": "int64",
         "type": "integer"
        },
        {
         "name": "25x11",
         "rawType": "int64",
         "type": "integer"
        },
        {
         "name": "25x12",
         "rawType": "int64",
         "type": "integer"
        },
        {
         "name": "25x13",
         "rawType": "int64",
         "type": "integer"
        },
        {
         "name": "25x14",
         "rawType": "int64",
         "type": "integer"
        },
        {
         "name": "25x15",
         "rawType": "int64",
         "type": "integer"
        },
        {
         "name": "25x16",
         "rawType": "int64",
         "type": "integer"
        },
        {
         "name": "25x17",
         "rawType": "int64",
         "type": "integer"
        },
        {
         "name": "25x18",
         "rawType": "int64",
         "type": "integer"
        },
        {
         "name": "25x19",
         "rawType": "int64",
         "type": "integer"
        },
        {
         "name": "25x20",
         "rawType": "int64",
         "type": "integer"
        },
        {
         "name": "25x21",
         "rawType": "int64",
         "type": "integer"
        },
        {
         "name": "25x22",
         "rawType": "int64",
         "type": "integer"
        },
        {
         "name": "25x23",
         "rawType": "int64",
         "type": "integer"
        },
        {
         "name": "25x24",
         "rawType": "int64",
         "type": "integer"
        },
        {
         "name": "25x25",
         "rawType": "int64",
         "type": "integer"
        },
        {
         "name": "25x26",
         "rawType": "int64",
         "type": "integer"
        },
        {
         "name": "25x27",
         "rawType": "int64",
         "type": "integer"
        },
        {
         "name": "25x28",
         "rawType": "int64",
         "type": "integer"
        },
        {
         "name": "26x1",
         "rawType": "int64",
         "type": "integer"
        },
        {
         "name": "26x2",
         "rawType": "int64",
         "type": "integer"
        },
        {
         "name": "26x3",
         "rawType": "int64",
         "type": "integer"
        },
        {
         "name": "26x4",
         "rawType": "int64",
         "type": "integer"
        },
        {
         "name": "26x5",
         "rawType": "int64",
         "type": "integer"
        },
        {
         "name": "26x6",
         "rawType": "int64",
         "type": "integer"
        },
        {
         "name": "26x7",
         "rawType": "int64",
         "type": "integer"
        },
        {
         "name": "26x8",
         "rawType": "int64",
         "type": "integer"
        },
        {
         "name": "26x9",
         "rawType": "int64",
         "type": "integer"
        },
        {
         "name": "26x10",
         "rawType": "int64",
         "type": "integer"
        },
        {
         "name": "26x11",
         "rawType": "int64",
         "type": "integer"
        },
        {
         "name": "26x12",
         "rawType": "int64",
         "type": "integer"
        },
        {
         "name": "26x13",
         "rawType": "int64",
         "type": "integer"
        },
        {
         "name": "26x14",
         "rawType": "int64",
         "type": "integer"
        },
        {
         "name": "26x15",
         "rawType": "int64",
         "type": "integer"
        },
        {
         "name": "26x16",
         "rawType": "int64",
         "type": "integer"
        },
        {
         "name": "26x17",
         "rawType": "int64",
         "type": "integer"
        },
        {
         "name": "26x18",
         "rawType": "int64",
         "type": "integer"
        },
        {
         "name": "26x19",
         "rawType": "int64",
         "type": "integer"
        },
        {
         "name": "26x20",
         "rawType": "int64",
         "type": "integer"
        },
        {
         "name": "26x21",
         "rawType": "int64",
         "type": "integer"
        },
        {
         "name": "26x22",
         "rawType": "int64",
         "type": "integer"
        },
        {
         "name": "26x23",
         "rawType": "int64",
         "type": "integer"
        },
        {
         "name": "26x24",
         "rawType": "int64",
         "type": "integer"
        },
        {
         "name": "26x25",
         "rawType": "int64",
         "type": "integer"
        },
        {
         "name": "26x26",
         "rawType": "int64",
         "type": "integer"
        },
        {
         "name": "26x27",
         "rawType": "int64",
         "type": "integer"
        },
        {
         "name": "26x28",
         "rawType": "int64",
         "type": "integer"
        },
        {
         "name": "27x1",
         "rawType": "int64",
         "type": "integer"
        },
        {
         "name": "27x2",
         "rawType": "int64",
         "type": "integer"
        },
        {
         "name": "27x3",
         "rawType": "int64",
         "type": "integer"
        },
        {
         "name": "27x4",
         "rawType": "int64",
         "type": "integer"
        },
        {
         "name": "27x5",
         "rawType": "int64",
         "type": "integer"
        },
        {
         "name": "27x6",
         "rawType": "int64",
         "type": "integer"
        },
        {
         "name": "27x7",
         "rawType": "int64",
         "type": "integer"
        },
        {
         "name": "27x8",
         "rawType": "int64",
         "type": "integer"
        },
        {
         "name": "27x9",
         "rawType": "int64",
         "type": "integer"
        },
        {
         "name": "27x10",
         "rawType": "int64",
         "type": "integer"
        },
        {
         "name": "27x11",
         "rawType": "int64",
         "type": "integer"
        },
        {
         "name": "27x12",
         "rawType": "int64",
         "type": "integer"
        },
        {
         "name": "27x13",
         "rawType": "int64",
         "type": "integer"
        },
        {
         "name": "27x14",
         "rawType": "int64",
         "type": "integer"
        },
        {
         "name": "27x15",
         "rawType": "int64",
         "type": "integer"
        },
        {
         "name": "27x16",
         "rawType": "int64",
         "type": "integer"
        },
        {
         "name": "27x17",
         "rawType": "int64",
         "type": "integer"
        },
        {
         "name": "27x18",
         "rawType": "int64",
         "type": "integer"
        },
        {
         "name": "27x19",
         "rawType": "int64",
         "type": "integer"
        },
        {
         "name": "27x20",
         "rawType": "int64",
         "type": "integer"
        },
        {
         "name": "27x21",
         "rawType": "int64",
         "type": "integer"
        },
        {
         "name": "27x22",
         "rawType": "int64",
         "type": "integer"
        },
        {
         "name": "27x23",
         "rawType": "int64",
         "type": "integer"
        },
        {
         "name": "27x24",
         "rawType": "int64",
         "type": "integer"
        },
        {
         "name": "27x25",
         "rawType": "int64",
         "type": "integer"
        },
        {
         "name": "27x26",
         "rawType": "int64",
         "type": "integer"
        },
        {
         "name": "27x27",
         "rawType": "int64",
         "type": "integer"
        },
        {
         "name": "27x28",
         "rawType": "int64",
         "type": "integer"
        },
        {
         "name": "28x1",
         "rawType": "int64",
         "type": "integer"
        },
        {
         "name": "28x2",
         "rawType": "int64",
         "type": "integer"
        },
        {
         "name": "28x3",
         "rawType": "int64",
         "type": "integer"
        },
        {
         "name": "28x4",
         "rawType": "int64",
         "type": "integer"
        },
        {
         "name": "28x5",
         "rawType": "int64",
         "type": "integer"
        },
        {
         "name": "28x6",
         "rawType": "int64",
         "type": "integer"
        },
        {
         "name": "28x7",
         "rawType": "int64",
         "type": "integer"
        },
        {
         "name": "28x8",
         "rawType": "int64",
         "type": "integer"
        },
        {
         "name": "28x9",
         "rawType": "int64",
         "type": "integer"
        },
        {
         "name": "28x10",
         "rawType": "int64",
         "type": "integer"
        },
        {
         "name": "28x11",
         "rawType": "int64",
         "type": "integer"
        },
        {
         "name": "28x12",
         "rawType": "int64",
         "type": "integer"
        },
        {
         "name": "28x13",
         "rawType": "int64",
         "type": "integer"
        },
        {
         "name": "28x14",
         "rawType": "int64",
         "type": "integer"
        },
        {
         "name": "28x15",
         "rawType": "int64",
         "type": "integer"
        },
        {
         "name": "28x16",
         "rawType": "int64",
         "type": "integer"
        },
        {
         "name": "28x17",
         "rawType": "int64",
         "type": "integer"
        },
        {
         "name": "28x18",
         "rawType": "int64",
         "type": "integer"
        },
        {
         "name": "28x19",
         "rawType": "int64",
         "type": "integer"
        },
        {
         "name": "28x20",
         "rawType": "int64",
         "type": "integer"
        },
        {
         "name": "28x21",
         "rawType": "int64",
         "type": "integer"
        },
        {
         "name": "28x22",
         "rawType": "int64",
         "type": "integer"
        },
        {
         "name": "28x23",
         "rawType": "int64",
         "type": "integer"
        },
        {
         "name": "28x24",
         "rawType": "int64",
         "type": "integer"
        },
        {
         "name": "28x25",
         "rawType": "int64",
         "type": "integer"
        },
        {
         "name": "28x26",
         "rawType": "int64",
         "type": "integer"
        },
        {
         "name": "28x27",
         "rawType": "int64",
         "type": "integer"
        },
        {
         "name": "28x28",
         "rawType": "int64",
         "type": "integer"
        }
       ],
       "ref": "989321f9-a7c2-4268-831b-fcb11d8839ae",
       "rows": [
        [
         "0",
         "5",
         "0",
         "0",
         "0",
         "0",
         "0",
         "0",
         "0",
         "0",
         "0",
         "0",
         "0",
         "0",
         "0",
         "0",
         "0",
         "0",
         "0",
         "0",
         "0",
         "0",
         "0",
         "0",
         "0",
         "0",
         "0",
         "0",
         "0",
         "0",
         "0",
         "0",
         "0",
         "0",
         "0",
         "0",
         "0",
         "0",
         "0",
         "0",
         "0",
         "0",
         "0",
         "0",
         "0",
         "0",
         "0",
         "0",
         "0",
         "0",
         "0",
         "0",
         "0",
         "0",
         "0",
         "0",
         "0",
         "0",
         "0",
         "0",
         "0",
         "0",
         "0",
         "0",
         "0",
         "0",
         "0",
         "0",
         "0",
         "0",
         "0",
         "0",
         "0",
         "0",
         "0",
         "0",
         "0",
         "0",
         "0",
         "0",
         "0",
         "0",
         "0",
         "0",
         "0",
         "0",
         "0",
         "0",
         "0",
         "0",
         "0",
         "0",
         "0",
         "0",
         "0",
         "0",
         "0",
         "0",
         "0",
         "0",
         "0",
         "0",
         "0",
         "0",
         "0",
         "0",
         "0",
         "0",
         "0",
         "0",
         "0",
         "0",
         "0",
         "0",
         "0",
         "0",
         "0",
         "0",
         "0",
         "0",
         "0",
         "0",
         "0",
         "0",
         "0",
         "0",
         "0",
         "0",
         "0",
         "0",
         "0",
         "0",
         "0",
         "0",
         "0",
         "0",
         "0",
         "0",
         "0",
         "0",
         "0",
         "0",
         "0",
         "0",
         "0",
         "0",
         "0",
         "0",
         "0",
         "0",
         "0",
         "0",
         "0",
         "0",
         "3",
         "18",
         "18",
         "18",
         "126",
         "136",
         "175",
         "26",
         "166",
         "255",
         "247",
         "127",
         "0",
         "0",
         "0",
         "0",
         "0",
         "0",
         "0",
         "0",
         "0",
         "0",
         "0",
         "0",
         "30",
         "36",
         "94",
         "154",
         "170",
         "253",
         "253",
         "253",
         "253",
         "253",
         "225",
         "172",
         "253",
         "242",
         "195",
         "64",
         "0",
         "0",
         "0",
         "0",
         "0",
         "0",
         "0",
         "0",
         "0",
         "0",
         "0",
         "49",
         "238",
         "253",
         "253",
         "253",
         "253",
         "253",
         "253",
         "253",
         "253",
         "251",
         "93",
         "82",
         "82",
         "56",
         "39",
         "0",
         "0",
         "0",
         "0",
         "0",
         "0",
         "0",
         "0",
         "0",
         "0",
         "0",
         "0",
         "18",
         "219",
         "253",
         "253",
         "253",
         "253",
         "253",
         "198",
         "182",
         "247",
         "241",
         "0",
         "0",
         "0",
         "0",
         "0",
         "0",
         "0",
         "0",
         "0",
         "0",
         "0",
         "0",
         "0",
         "0",
         "0",
         "0",
         "0",
         "0",
         "80",
         "156",
         "107",
         "253",
         "253",
         "205",
         "11",
         "0",
         "43",
         "154",
         "0",
         "0",
         "0",
         "0",
         "0",
         "0",
         "0",
         "0",
         "0",
         "0",
         "0",
         "0",
         "0",
         "0",
         "0",
         "0",
         "0",
         "0",
         "0",
         "14",
         "1",
         "154",
         "253",
         "90",
         "0",
         "0",
         "0",
         "0",
         "0",
         "0",
         "0",
         "0",
         "0",
         "0",
         "0",
         "0",
         "0",
         "0",
         "0",
         "0",
         "0",
         "0",
         "0",
         "0",
         "0",
         "0",
         "0",
         "0",
         "0",
         "139",
         "253",
         "190",
         "2",
         "0",
         "0",
         "0",
         "0",
         "0",
         "0",
         "0",
         "0",
         "0",
         "0",
         "0",
         "0",
         "0",
         "0",
         "0",
         "0",
         "0",
         "0",
         "0",
         "0",
         "0",
         "0",
         "0",
         "0",
         "11",
         "190",
         "253",
         "70",
         "0",
         "0",
         "0",
         "0",
         "0",
         "0",
         "0",
         "0",
         "0",
         "0",
         "0",
         "0",
         "0",
         "0",
         "0",
         "0",
         "0",
         "0",
         "0",
         "0",
         "0",
         "0",
         "0",
         "0",
         "0",
         "35",
         "241",
         "225",
         "160",
         "108",
         "1",
         "0",
         "0",
         "0",
         "0",
         "0",
         "0",
         "0",
         "0",
         "0",
         "0",
         "0",
         "0",
         "0",
         "0",
         "0",
         "0",
         "0",
         "0",
         "0",
         "0",
         "0",
         "0",
         "0",
         "81",
         "240",
         "253",
         "253",
         "119",
         "25",
         "0",
         "0",
         "0",
         "0",
         "0",
         "0",
         "0",
         "0",
         "0",
         "0",
         "0",
         "0",
         "0",
         "0",
         "0",
         "0",
         "0",
         "0",
         "0",
         "0",
         "0",
         "0",
         "0",
         "45",
         "186",
         "253",
         "253",
         "150",
         "27",
         "0",
         "0",
         "0",
         "0",
         "0",
         "0",
         "0",
         "0",
         "0",
         "0",
         "0",
         "0",
         "0",
         "0",
         "0",
         "0",
         "0",
         "0",
         "0",
         "0",
         "0",
         "0",
         "0",
         "16",
         "93",
         "252",
         "253",
         "187",
         "0",
         "0",
         "0",
         "0",
         "0",
         "0",
         "0",
         "0",
         "0",
         "0",
         "0",
         "0",
         "0",
         "0",
         "0",
         "0",
         "0",
         "0",
         "0",
         "0",
         "0",
         "0",
         "0",
         "0",
         "0",
         "249",
         "253",
         "249",
         "64",
         "0",
         "0",
         "0",
         "0",
         "0",
         "0",
         "0",
         "0",
         "0",
         "0",
         "0",
         "0",
         "0",
         "0",
         "0",
         "0",
         "0",
         "0",
         "0",
         "0",
         "0",
         "46",
         "130",
         "183",
         "253",
         "253",
         "207",
         "2",
         "0",
         "0",
         "0",
         "0",
         "0",
         "0",
         "0",
         "0",
         "0",
         "0",
         "0",
         "0",
         "0",
         "0",
         "0",
         "0",
         "0",
         "0",
         "0",
         "39",
         "148",
         "229",
         "253",
         "253",
         "253",
         "250",
         "182",
         "0",
         "0",
         "0",
         "0",
         "0",
         "0",
         "0",
         "0",
         "0",
         "0",
         "0",
         "0",
         "0",
         "0",
         "0",
         "0",
         "0",
         "0",
         "24",
         "114",
         "221",
         "253",
         "253",
         "253",
         "253",
         "201",
         "78",
         "0",
         "0",
         "0",
         "0",
         "0",
         "0",
         "0",
         "0",
         "0",
         "0",
         "0",
         "0",
         "0",
         "0",
         "0",
         "0",
         "0",
         "23",
         "66",
         "213",
         "253",
         "253",
         "253",
         "253",
         "198",
         "81",
         "2",
         "0",
         "0",
         "0",
         "0",
         "0",
         "0",
         "0",
         "0",
         "0",
         "0",
         "0",
         "0",
         "0",
         "0",
         "0",
         "0",
         "18",
         "171",
         "219",
         "253",
         "253",
         "253",
         "253",
         "195",
         "80",
         "9",
         "0",
         "0",
         "0",
         "0",
         "0",
         "0",
         "0",
         "0",
         "0",
         "0",
         "0",
         "0",
         "0",
         "0",
         "0",
         "0",
         "55",
         "172",
         "226",
         "253",
         "253",
         "253",
         "253",
         "244",
         "133",
         "11",
         "0",
         "0",
         "0",
         "0",
         "0",
         "0",
         "0",
         "0",
         "0",
         "0",
         "0",
         "0",
         "0",
         "0",
         "0",
         "0",
         "0",
         "0",
         "136",
         "253",
         "253",
         "253",
         "212",
         "135",
         "132",
         "16",
         "0",
         "0",
         "0",
         "0",
         "0",
         "0",
         "0",
         "0",
         "0",
         "0",
         "0",
         "0",
         "0",
         "0",
         "0",
         "0",
         "0",
         "0",
         "0",
         "0",
         "0",
         "0",
         "0",
         "0",
         "0",
         "0",
         "0",
         "0",
         "0",
         "0",
         "0",
         "0",
         "0",
         "0",
         "0",
         "0",
         "0",
         "0",
         "0",
         "0",
         "0",
         "0",
         "0",
         "0",
         "0",
         "0",
         "0",
         "0",
         "0",
         "0",
         "0",
         "0",
         "0",
         "0",
         "0",
         "0",
         "0",
         "0",
         "0",
         "0",
         "0",
         "0",
         "0",
         "0",
         "0",
         "0",
         "0",
         "0",
         "0",
         "0",
         "0",
         "0",
         "0",
         "0",
         "0",
         "0",
         "0",
         "0",
         "0",
         "0",
         "0",
         "0",
         "0",
         "0",
         "0",
         "0",
         "0",
         "0",
         "0",
         "0",
         "0",
         "0",
         "0",
         "0",
         "0",
         "0",
         "0",
         "0",
         "0",
         "0"
        ],
        [
         "1",
         "0",
         "0",
         "0",
         "0",
         "0",
         "0",
         "0",
         "0",
         "0",
         "0",
         "0",
         "0",
         "0",
         "0",
         "0",
         "0",
         "0",
         "0",
         "0",
         "0",
         "0",
         "0",
         "0",
         "0",
         "0",
         "0",
         "0",
         "0",
         "0",
         "0",
         "0",
         "0",
         "0",
         "0",
         "0",
         "0",
         "0",
         "0",
         "0",
         "0",
         "0",
         "0",
         "0",
         "0",
         "0",
         "0",
         "0",
         "0",
         "0",
         "0",
         "0",
         "0",
         "0",
         "0",
         "0",
         "0",
         "0",
         "0",
         "0",
         "0",
         "0",
         "0",
         "0",
         "0",
         "0",
         "0",
         "0",
         "0",
         "0",
         "0",
         "0",
         "0",
         "0",
         "0",
         "0",
         "0",
         "0",
         "0",
         "0",
         "0",
         "0",
         "0",
         "0",
         "0",
         "0",
         "0",
         "0",
         "0",
         "0",
         "0",
         "0",
         "0",
         "0",
         "0",
         "0",
         "0",
         "0",
         "0",
         "0",
         "0",
         "0",
         "0",
         "0",
         "0",
         "0",
         "0",
         "0",
         "0",
         "0",
         "0",
         "0",
         "0",
         "0",
         "0",
         "0",
         "0",
         "0",
         "0",
         "0",
         "0",
         "0",
         "0",
         "0",
         "0",
         "0",
         "0",
         "0",
         "0",
         "51",
         "159",
         "253",
         "159",
         "50",
         "0",
         "0",
         "0",
         "0",
         "0",
         "0",
         "0",
         "0",
         "0",
         "0",
         "0",
         "0",
         "0",
         "0",
         "0",
         "0",
         "0",
         "0",
         "0",
         "0",
         "0",
         "0",
         "48",
         "238",
         "252",
         "252",
         "252",
         "237",
         "0",
         "0",
         "0",
         "0",
         "0",
         "0",
         "0",
         "0",
         "0",
         "0",
         "0",
         "0",
         "0",
         "0",
         "0",
         "0",
         "0",
         "0",
         "0",
         "0",
         "0",
         "54",
         "227",
         "253",
         "252",
         "239",
         "233",
         "252",
         "57",
         "6",
         "0",
         "0",
         "0",
         "0",
         "0",
         "0",
         "0",
         "0",
         "0",
         "0",
         "0",
         "0",
         "0",
         "0",
         "0",
         "0",
         "0",
         "10",
         "60",
         "224",
         "252",
         "253",
         "252",
         "202",
         "84",
         "252",
         "253",
         "122",
         "0",
         "0",
         "0",
         "0",
         "0",
         "0",
         "0",
         "0",
         "0",
         "0",
         "0",
         "0",
         "0",
         "0",
         "0",
         "0",
         "0",
         "163",
         "252",
         "252",
         "252",
         "253",
         "252",
         "252",
         "96",
         "189",
         "253",
         "167",
         "0",
         "0",
         "0",
         "0",
         "0",
         "0",
         "0",
         "0",
         "0",
         "0",
         "0",
         "0",
         "0",
         "0",
         "0",
         "0",
         "51",
         "238",
         "253",
         "253",
         "190",
         "114",
         "253",
         "228",
         "47",
         "79",
         "255",
         "168",
         "0",
         "0",
         "0",
         "0",
         "0",
         "0",
         "0",
         "0",
         "0",
         "0",
         "0",
         "0",
         "0",
         "0",
         "0",
         "48",
         "238",
         "252",
         "252",
         "179",
         "12",
         "75",
         "121",
         "21",
         "0",
         "0",
         "253",
         "243",
         "50",
         "0",
         "0",
         "0",
         "0",
         "0",
         "0",
         "0",
         "0",
         "0",
         "0",
         "0",
         "0",
         "0",
         "38",
         "165",
         "253",
         "233",
         "208",
         "84",
         "0",
         "0",
         "0",
         "0",
         "0",
         "0",
         "253",
         "252",
         "165",
         "0",
         "0",
         "0",
         "0",
         "0",
         "0",
         "0",
         "0",
         "0",
         "0",
         "0",
         "0",
         "7",
         "178",
         "252",
         "240",
         "71",
         "19",
         "28",
         "0",
         "0",
         "0",
         "0",
         "0",
         "0",
         "253",
         "252",
         "195",
         "0",
         "0",
         "0",
         "0",
         "0",
         "0",
         "0",
         "0",
         "0",
         "0",
         "0",
         "0",
         "57",
         "252",
         "252",
         "63",
         "0",
         "0",
         "0",
         "0",
         "0",
         "0",
         "0",
         "0",
         "0",
         "253",
         "252",
         "195",
         "0",
         "0",
         "0",
         "0",
         "0",
         "0",
         "0",
         "0",
         "0",
         "0",
         "0",
         "0",
         "198",
         "253",
         "190",
         "0",
         "0",
         "0",
         "0",
         "0",
         "0",
         "0",
         "0",
         "0",
         "0",
         "255",
         "253",
         "196",
         "0",
         "0",
         "0",
         "0",
         "0",
         "0",
         "0",
         "0",
         "0",
         "0",
         "0",
         "76",
         "246",
         "252",
         "112",
         "0",
         "0",
         "0",
         "0",
         "0",
         "0",
         "0",
         "0",
         "0",
         "0",
         "253",
         "252",
         "148",
         "0",
         "0",
         "0",
         "0",
         "0",
         "0",
         "0",
         "0",
         "0",
         "0",
         "0",
         "85",
         "252",
         "230",
         "25",
         "0",
         "0",
         "0",
         "0",
         "0",
         "0",
         "0",
         "0",
         "7",
         "135",
         "253",
         "186",
         "12",
         "0",
         "0",
         "0",
         "0",
         "0",
         "0",
         "0",
         "0",
         "0",
         "0",
         "0",
         "85",
         "252",
         "223",
         "0",
         "0",
         "0",
         "0",
         "0",
         "0",
         "0",
         "0",
         "7",
         "131",
         "252",
         "225",
         "71",
         "0",
         "0",
         "0",
         "0",
         "0",
         "0",
         "0",
         "0",
         "0",
         "0",
         "0",
         "0",
         "85",
         "252",
         "145",
         "0",
         "0",
         "0",
         "0",
         "0",
         "0",
         "0",
         "48",
         "165",
         "252",
         "173",
         "0",
         "0",
         "0",
         "0",
         "0",
         "0",
         "0",
         "0",
         "0",
         "0",
         "0",
         "0",
         "0",
         "0",
         "86",
         "253",
         "225",
         "0",
         "0",
         "0",
         "0",
         "0",
         "0",
         "114",
         "238",
         "253",
         "162",
         "0",
         "0",
         "0",
         "0",
         "0",
         "0",
         "0",
         "0",
         "0",
         "0",
         "0",
         "0",
         "0",
         "0",
         "0",
         "85",
         "252",
         "249",
         "146",
         "48",
         "29",
         "85",
         "178",
         "225",
         "253",
         "223",
         "167",
         "56",
         "0",
         "0",
         "0",
         "0",
         "0",
         "0",
         "0",
         "0",
         "0",
         "0",
         "0",
         "0",
         "0",
         "0",
         "0",
         "85",
         "252",
         "252",
         "252",
         "229",
         "215",
         "252",
         "252",
         "252",
         "196",
         "130",
         "0",
         "0",
         "0",
         "0",
         "0",
         "0",
         "0",
         "0",
         "0",
         "0",
         "0",
         "0",
         "0",
         "0",
         "0",
         "0",
         "0",
         "28",
         "199",
         "252",
         "252",
         "253",
         "252",
         "252",
         "233",
         "145",
         "0",
         "0",
         "0",
         "0",
         "0",
         "0",
         "0",
         "0",
         "0",
         "0",
         "0",
         "0",
         "0",
         "0",
         "0",
         "0",
         "0",
         "0",
         "0",
         "0",
         "25",
         "128",
         "252",
         "253",
         "252",
         "141",
         "37",
         "0",
         "0",
         "0",
         "0",
         "0",
         "0",
         "0",
         "0",
         "0",
         "0",
         "0",
         "0",
         "0",
         "0",
         "0",
         "0",
         "0",
         "0",
         "0",
         "0",
         "0",
         "0",
         "0",
         "0",
         "0",
         "0",
         "0",
         "0",
         "0",
         "0",
         "0",
         "0",
         "0",
         "0",
         "0",
         "0",
         "0",
         "0",
         "0",
         "0",
         "0",
         "0",
         "0",
         "0",
         "0",
         "0",
         "0",
         "0",
         "0",
         "0",
         "0",
         "0",
         "0",
         "0",
         "0",
         "0",
         "0",
         "0",
         "0",
         "0",
         "0",
         "0",
         "0",
         "0",
         "0",
         "0",
         "0",
         "0",
         "0",
         "0",
         "0",
         "0",
         "0",
         "0",
         "0",
         "0",
         "0",
         "0",
         "0",
         "0",
         "0",
         "0",
         "0",
         "0",
         "0",
         "0",
         "0",
         "0",
         "0",
         "0",
         "0",
         "0",
         "0",
         "0",
         "0",
         "0",
         "0",
         "0",
         "0",
         "0",
         "0",
         "0",
         "0",
         "0",
         "0",
         "0",
         "0",
         "0",
         "0",
         "0",
         "0",
         "0",
         "0",
         "0",
         "0",
         "0",
         "0",
         "0",
         "0",
         "0",
         "0",
         "0",
         "0",
         "0",
         "0",
         "0"
        ],
        [
         "2",
         "4",
         "0",
         "0",
         "0",
         "0",
         "0",
         "0",
         "0",
         "0",
         "0",
         "0",
         "0",
         "0",
         "0",
         "0",
         "0",
         "0",
         "0",
         "0",
         "0",
         "0",
         "0",
         "0",
         "0",
         "0",
         "0",
         "0",
         "0",
         "0",
         "0",
         "0",
         "0",
         "0",
         "0",
         "0",
         "0",
         "0",
         "0",
         "0",
         "0",
         "0",
         "0",
         "0",
         "0",
         "0",
         "0",
         "0",
         "0",
         "0",
         "0",
         "0",
         "0",
         "0",
         "0",
         "0",
         "0",
         "0",
         "0",
         "0",
         "0",
         "0",
         "0",
         "0",
         "0",
         "0",
         "0",
         "0",
         "0",
         "0",
         "0",
         "0",
         "0",
         "0",
         "0",
         "0",
         "0",
         "0",
         "0",
         "0",
         "0",
         "0",
         "0",
         "0",
         "0",
         "0",
         "0",
         "0",
         "0",
         "0",
         "0",
         "0",
         "0",
         "0",
         "0",
         "0",
         "0",
         "0",
         "0",
         "0",
         "0",
         "0",
         "0",
         "0",
         "0",
         "0",
         "0",
         "0",
         "0",
         "0",
         "0",
         "0",
         "0",
         "0",
         "0",
         "0",
         "0",
         "0",
         "0",
         "0",
         "0",
         "0",
         "0",
         "0",
         "0",
         "0",
         "0",
         "0",
         "0",
         "0",
         "0",
         "0",
         "0",
         "0",
         "0",
         "0",
         "0",
         "0",
         "0",
         "0",
         "0",
         "0",
         "0",
         "0",
         "0",
         "0",
         "0",
         "0",
         "0",
         "0",
         "0",
         "0",
         "0",
         "0",
         "0",
         "0",
         "0",
         "0",
         "0",
         "0",
         "0",
         "0",
         "67",
         "232",
         "39",
         "0",
         "0",
         "0",
         "0",
         "0",
         "0",
         "0",
         "0",
         "0",
         "62",
         "81",
         "0",
         "0",
         "0",
         "0",
         "0",
         "0",
         "0",
         "0",
         "0",
         "0",
         "0",
         "0",
         "0",
         "0",
         "120",
         "180",
         "39",
         "0",
         "0",
         "0",
         "0",
         "0",
         "0",
         "0",
         "0",
         "0",
         "126",
         "163",
         "0",
         "0",
         "0",
         "0",
         "0",
         "0",
         "0",
         "0",
         "0",
         "0",
         "0",
         "0",
         "0",
         "2",
         "153",
         "210",
         "40",
         "0",
         "0",
         "0",
         "0",
         "0",
         "0",
         "0",
         "0",
         "0",
         "220",
         "163",
         "0",
         "0",
         "0",
         "0",
         "0",
         "0",
         "0",
         "0",
         "0",
         "0",
         "0",
         "0",
         "0",
         "27",
         "254",
         "162",
         "0",
         "0",
         "0",
         "0",
         "0",
         "0",
         "0",
         "0",
         "0",
         "0",
         "222",
         "163",
         "0",
         "0",
         "0",
         "0",
         "0",
         "0",
         "0",
         "0",
         "0",
         "0",
         "0",
         "0",
         "0",
         "183",
         "254",
         "125",
         "0",
         "0",
         "0",
         "0",
         "0",
         "0",
         "0",
         "0",
         "0",
         "46",
         "245",
         "163",
         "0",
         "0",
         "0",
         "0",
         "0",
         "0",
         "0",
         "0",
         "0",
         "0",
         "0",
         "0",
         "0",
         "198",
         "254",
         "56",
         "0",
         "0",
         "0",
         "0",
         "0",
         "0",
         "0",
         "0",
         "0",
         "120",
         "254",
         "163",
         "0",
         "0",
         "0",
         "0",
         "0",
         "0",
         "0",
         "0",
         "0",
         "0",
         "0",
         "0",
         "23",
         "231",
         "254",
         "29",
         "0",
         "0",
         "0",
         "0",
         "0",
         "0",
         "0",
         "0",
         "0",
         "159",
         "254",
         "120",
         "0",
         "0",
         "0",
         "0",
         "0",
         "0",
         "0",
         "0",
         "0",
         "0",
         "0",
         "0",
         "163",
         "254",
         "216",
         "16",
         "0",
         "0",
         "0",
         "0",
         "0",
         "0",
         "0",
         "0",
         "0",
         "159",
         "254",
         "67",
         "0",
         "0",
         "0",
         "0",
         "0",
         "0",
         "0",
         "0",
         "0",
         "14",
         "86",
         "178",
         "248",
         "254",
         "91",
         "0",
         "0",
         "0",
         "0",
         "0",
         "0",
         "0",
         "0",
         "0",
         "0",
         "159",
         "254",
         "85",
         "0",
         "0",
         "0",
         "47",
         "49",
         "116",
         "144",
         "150",
         "241",
         "243",
         "234",
         "179",
         "241",
         "252",
         "40",
         "0",
         "0",
         "0",
         "0",
         "0",
         "0",
         "0",
         "0",
         "0",
         "0",
         "150",
         "253",
         "237",
         "207",
         "207",
         "207",
         "253",
         "254",
         "250",
         "240",
         "198",
         "143",
         "91",
         "28",
         "5",
         "233",
         "250",
         "0",
         "0",
         "0",
         "0",
         "0",
         "0",
         "0",
         "0",
         "0",
         "0",
         "0",
         "0",
         "119",
         "177",
         "177",
         "177",
         "177",
         "177",
         "98",
         "56",
         "0",
         "0",
         "0",
         "0",
         "0",
         "102",
         "254",
         "220",
         "0",
         "0",
         "0",
         "0",
         "0",
         "0",
         "0",
         "0",
         "0",
         "0",
         "0",
         "0",
         "0",
         "0",
         "0",
         "0",
         "0",
         "0",
         "0",
         "0",
         "0",
         "0",
         "0",
         "0",
         "0",
         "169",
         "254",
         "137",
         "0",
         "0",
         "0",
         "0",
         "0",
         "0",
         "0",
         "0",
         "0",
         "0",
         "0",
         "0",
         "0",
         "0",
         "0",
         "0",
         "0",
         "0",
         "0",
         "0",
         "0",
         "0",
         "0",
         "0",
         "0",
         "169",
         "254",
         "57",
         "0",
         "0",
         "0",
         "0",
         "0",
         "0",
         "0",
         "0",
         "0",
         "0",
         "0",
         "0",
         "0",
         "0",
         "0",
         "0",
         "0",
         "0",
         "0",
         "0",
         "0",
         "0",
         "0",
         "0",
         "0",
         "169",
         "254",
         "57",
         "0",
         "0",
         "0",
         "0",
         "0",
         "0",
         "0",
         "0",
         "0",
         "0",
         "0",
         "0",
         "0",
         "0",
         "0",
         "0",
         "0",
         "0",
         "0",
         "0",
         "0",
         "0",
         "0",
         "0",
         "0",
         "169",
         "255",
         "94",
         "0",
         "0",
         "0",
         "0",
         "0",
         "0",
         "0",
         "0",
         "0",
         "0",
         "0",
         "0",
         "0",
         "0",
         "0",
         "0",
         "0",
         "0",
         "0",
         "0",
         "0",
         "0",
         "0",
         "0",
         "0",
         "169",
         "254",
         "96",
         "0",
         "0",
         "0",
         "0",
         "0",
         "0",
         "0",
         "0",
         "0",
         "0",
         "0",
         "0",
         "0",
         "0",
         "0",
         "0",
         "0",
         "0",
         "0",
         "0",
         "0",
         "0",
         "0",
         "0",
         "0",
         "169",
         "254",
         "153",
         "0",
         "0",
         "0",
         "0",
         "0",
         "0",
         "0",
         "0",
         "0",
         "0",
         "0",
         "0",
         "0",
         "0",
         "0",
         "0",
         "0",
         "0",
         "0",
         "0",
         "0",
         "0",
         "0",
         "0",
         "0",
         "169",
         "255",
         "153",
         "0",
         "0",
         "0",
         "0",
         "0",
         "0",
         "0",
         "0",
         "0",
         "0",
         "0",
         "0",
         "0",
         "0",
         "0",
         "0",
         "0",
         "0",
         "0",
         "0",
         "0",
         "0",
         "0",
         "0",
         "0",
         "96",
         "254",
         "153",
         "0",
         "0",
         "0",
         "0",
         "0",
         "0",
         "0",
         "0",
         "0",
         "0",
         "0",
         "0",
         "0",
         "0",
         "0",
         "0",
         "0",
         "0",
         "0",
         "0",
         "0",
         "0",
         "0",
         "0",
         "0",
         "0",
         "0",
         "0",
         "0",
         "0",
         "0",
         "0",
         "0",
         "0",
         "0",
         "0",
         "0",
         "0",
         "0",
         "0",
         "0",
         "0",
         "0",
         "0",
         "0",
         "0",
         "0",
         "0",
         "0",
         "0",
         "0",
         "0",
         "0",
         "0",
         "0",
         "0",
         "0",
         "0",
         "0",
         "0",
         "0",
         "0",
         "0",
         "0",
         "0",
         "0",
         "0",
         "0",
         "0",
         "0",
         "0",
         "0",
         "0",
         "0",
         "0",
         "0",
         "0",
         "0",
         "0",
         "0",
         "0",
         "0",
         "0",
         "0",
         "0",
         "0",
         "0",
         "0",
         "0",
         "0",
         "0",
         "0"
        ],
        [
         "3",
         "1",
         "0",
         "0",
         "0",
         "0",
         "0",
         "0",
         "0",
         "0",
         "0",
         "0",
         "0",
         "0",
         "0",
         "0",
         "0",
         "0",
         "0",
         "0",
         "0",
         "0",
         "0",
         "0",
         "0",
         "0",
         "0",
         "0",
         "0",
         "0",
         "0",
         "0",
         "0",
         "0",
         "0",
         "0",
         "0",
         "0",
         "0",
         "0",
         "0",
         "0",
         "0",
         "0",
         "0",
         "0",
         "0",
         "0",
         "0",
         "0",
         "0",
         "0",
         "0",
         "0",
         "0",
         "0",
         "0",
         "0",
         "0",
         "0",
         "0",
         "0",
         "0",
         "0",
         "0",
         "0",
         "0",
         "0",
         "0",
         "0",
         "0",
         "0",
         "0",
         "0",
         "0",
         "0",
         "0",
         "0",
         "0",
         "0",
         "0",
         "0",
         "0",
         "0",
         "0",
         "0",
         "0",
         "0",
         "0",
         "0",
         "0",
         "0",
         "0",
         "0",
         "0",
         "0",
         "0",
         "0",
         "0",
         "0",
         "0",
         "0",
         "0",
         "0",
         "0",
         "0",
         "0",
         "0",
         "0",
         "0",
         "0",
         "0",
         "0",
         "0",
         "0",
         "0",
         "0",
         "0",
         "0",
         "0",
         "0",
         "0",
         "0",
         "0",
         "0",
         "0",
         "0",
         "0",
         "0",
         "0",
         "0",
         "0",
         "0",
         "0",
         "0",
         "0",
         "0",
         "0",
         "0",
         "0",
         "0",
         "0",
         "0",
         "0",
         "0",
         "0",
         "0",
         "0",
         "0",
         "0",
         "0",
         "0",
         "0",
         "0",
         "0",
         "0",
         "0",
         "0",
         "0",
         "0",
         "124",
         "253",
         "255",
         "63",
         "0",
         "0",
         "0",
         "0",
         "0",
         "0",
         "0",
         "0",
         "0",
         "0",
         "0",
         "0",
         "0",
         "0",
         "0",
         "0",
         "0",
         "0",
         "0",
         "0",
         "0",
         "0",
         "0",
         "96",
         "244",
         "251",
         "253",
         "62",
         "0",
         "0",
         "0",
         "0",
         "0",
         "0",
         "0",
         "0",
         "0",
         "0",
         "0",
         "0",
         "0",
         "0",
         "0",
         "0",
         "0",
         "0",
         "0",
         "0",
         "0",
         "0",
         "0",
         "127",
         "251",
         "251",
         "253",
         "62",
         "0",
         "0",
         "0",
         "0",
         "0",
         "0",
         "0",
         "0",
         "0",
         "0",
         "0",
         "0",
         "0",
         "0",
         "0",
         "0",
         "0",
         "0",
         "0",
         "0",
         "0",
         "0",
         "68",
         "236",
         "251",
         "211",
         "31",
         "8",
         "0",
         "0",
         "0",
         "0",
         "0",
         "0",
         "0",
         "0",
         "0",
         "0",
         "0",
         "0",
         "0",
         "0",
         "0",
         "0",
         "0",
         "0",
         "0",
         "0",
         "0",
         "60",
         "228",
         "251",
         "251",
         "94",
         "0",
         "0",
         "0",
         "0",
         "0",
         "0",
         "0",
         "0",
         "0",
         "0",
         "0",
         "0",
         "0",
         "0",
         "0",
         "0",
         "0",
         "0",
         "0",
         "0",
         "0",
         "0",
         "0",
         "155",
         "253",
         "253",
         "189",
         "0",
         "0",
         "0",
         "0",
         "0",
         "0",
         "0",
         "0",
         "0",
         "0",
         "0",
         "0",
         "0",
         "0",
         "0",
         "0",
         "0",
         "0",
         "0",
         "0",
         "0",
         "0",
         "0",
         "20",
         "253",
         "251",
         "235",
         "66",
         "0",
         "0",
         "0",
         "0",
         "0",
         "0",
         "0",
         "0",
         "0",
         "0",
         "0",
         "0",
         "0",
         "0",
         "0",
         "0",
         "0",
         "0",
         "0",
         "0",
         "0",
         "0",
         "32",
         "205",
         "253",
         "251",
         "126",
         "0",
         "0",
         "0",
         "0",
         "0",
         "0",
         "0",
         "0",
         "0",
         "0",
         "0",
         "0",
         "0",
         "0",
         "0",
         "0",
         "0",
         "0",
         "0",
         "0",
         "0",
         "0",
         "0",
         "104",
         "251",
         "253",
         "184",
         "15",
         "0",
         "0",
         "0",
         "0",
         "0",
         "0",
         "0",
         "0",
         "0",
         "0",
         "0",
         "0",
         "0",
         "0",
         "0",
         "0",
         "0",
         "0",
         "0",
         "0",
         "0",
         "0",
         "80",
         "240",
         "251",
         "193",
         "23",
         "0",
         "0",
         "0",
         "0",
         "0",
         "0",
         "0",
         "0",
         "0",
         "0",
         "0",
         "0",
         "0",
         "0",
         "0",
         "0",
         "0",
         "0",
         "0",
         "0",
         "0",
         "0",
         "32",
         "253",
         "253",
         "253",
         "159",
         "0",
         "0",
         "0",
         "0",
         "0",
         "0",
         "0",
         "0",
         "0",
         "0",
         "0",
         "0",
         "0",
         "0",
         "0",
         "0",
         "0",
         "0",
         "0",
         "0",
         "0",
         "0",
         "0",
         "151",
         "251",
         "251",
         "251",
         "39",
         "0",
         "0",
         "0",
         "0",
         "0",
         "0",
         "0",
         "0",
         "0",
         "0",
         "0",
         "0",
         "0",
         "0",
         "0",
         "0",
         "0",
         "0",
         "0",
         "0",
         "0",
         "0",
         "48",
         "221",
         "251",
         "251",
         "172",
         "0",
         "0",
         "0",
         "0",
         "0",
         "0",
         "0",
         "0",
         "0",
         "0",
         "0",
         "0",
         "0",
         "0",
         "0",
         "0",
         "0",
         "0",
         "0",
         "0",
         "0",
         "0",
         "0",
         "234",
         "251",
         "251",
         "196",
         "12",
         "0",
         "0",
         "0",
         "0",
         "0",
         "0",
         "0",
         "0",
         "0",
         "0",
         "0",
         "0",
         "0",
         "0",
         "0",
         "0",
         "0",
         "0",
         "0",
         "0",
         "0",
         "0",
         "0",
         "253",
         "251",
         "251",
         "89",
         "0",
         "0",
         "0",
         "0",
         "0",
         "0",
         "0",
         "0",
         "0",
         "0",
         "0",
         "0",
         "0",
         "0",
         "0",
         "0",
         "0",
         "0",
         "0",
         "0",
         "0",
         "0",
         "0",
         "159",
         "255",
         "253",
         "253",
         "31",
         "0",
         "0",
         "0",
         "0",
         "0",
         "0",
         "0",
         "0",
         "0",
         "0",
         "0",
         "0",
         "0",
         "0",
         "0",
         "0",
         "0",
         "0",
         "0",
         "0",
         "0",
         "0",
         "48",
         "228",
         "253",
         "247",
         "140",
         "8",
         "0",
         "0",
         "0",
         "0",
         "0",
         "0",
         "0",
         "0",
         "0",
         "0",
         "0",
         "0",
         "0",
         "0",
         "0",
         "0",
         "0",
         "0",
         "0",
         "0",
         "0",
         "0",
         "64",
         "251",
         "253",
         "220",
         "0",
         "0",
         "0",
         "0",
         "0",
         "0",
         "0",
         "0",
         "0",
         "0",
         "0",
         "0",
         "0",
         "0",
         "0",
         "0",
         "0",
         "0",
         "0",
         "0",
         "0",
         "0",
         "0",
         "0",
         "64",
         "251",
         "253",
         "220",
         "0",
         "0",
         "0",
         "0",
         "0",
         "0",
         "0",
         "0",
         "0",
         "0",
         "0",
         "0",
         "0",
         "0",
         "0",
         "0",
         "0",
         "0",
         "0",
         "0",
         "0",
         "0",
         "0",
         "0",
         "24",
         "193",
         "253",
         "220",
         "0",
         "0",
         "0",
         "0",
         "0",
         "0",
         "0",
         "0",
         "0",
         "0",
         "0",
         "0",
         "0",
         "0",
         "0",
         "0",
         "0",
         "0",
         "0",
         "0",
         "0",
         "0",
         "0",
         "0",
         "0",
         "0",
         "0",
         "0",
         "0",
         "0",
         "0",
         "0",
         "0",
         "0",
         "0",
         "0",
         "0",
         "0",
         "0",
         "0",
         "0",
         "0",
         "0",
         "0",
         "0",
         "0",
         "0",
         "0",
         "0",
         "0",
         "0",
         "0",
         "0",
         "0",
         "0",
         "0",
         "0",
         "0",
         "0",
         "0",
         "0",
         "0",
         "0",
         "0",
         "0",
         "0",
         "0",
         "0",
         "0",
         "0",
         "0",
         "0",
         "0",
         "0",
         "0",
         "0",
         "0",
         "0",
         "0",
         "0",
         "0",
         "0",
         "0",
         "0",
         "0",
         "0",
         "0",
         "0",
         "0",
         "0",
         "0",
         "0",
         "0",
         "0",
         "0",
         "0",
         "0",
         "0",
         "0",
         "0"
        ],
        [
         "4",
         "9",
         "0",
         "0",
         "0",
         "0",
         "0",
         "0",
         "0",
         "0",
         "0",
         "0",
         "0",
         "0",
         "0",
         "0",
         "0",
         "0",
         "0",
         "0",
         "0",
         "0",
         "0",
         "0",
         "0",
         "0",
         "0",
         "0",
         "0",
         "0",
         "0",
         "0",
         "0",
         "0",
         "0",
         "0",
         "0",
         "0",
         "0",
         "0",
         "0",
         "0",
         "0",
         "0",
         "0",
         "0",
         "0",
         "0",
         "0",
         "0",
         "0",
         "0",
         "0",
         "0",
         "0",
         "0",
         "0",
         "0",
         "0",
         "0",
         "0",
         "0",
         "0",
         "0",
         "0",
         "0",
         "0",
         "0",
         "0",
         "0",
         "0",
         "0",
         "0",
         "0",
         "0",
         "0",
         "0",
         "0",
         "0",
         "0",
         "0",
         "0",
         "0",
         "0",
         "0",
         "0",
         "0",
         "0",
         "0",
         "0",
         "0",
         "0",
         "0",
         "0",
         "0",
         "0",
         "0",
         "0",
         "0",
         "0",
         "0",
         "0",
         "0",
         "0",
         "0",
         "0",
         "0",
         "0",
         "0",
         "0",
         "0",
         "0",
         "0",
         "0",
         "0",
         "0",
         "0",
         "0",
         "0",
         "0",
         "0",
         "0",
         "0",
         "0",
         "0",
         "0",
         "0",
         "0",
         "0",
         "0",
         "0",
         "0",
         "0",
         "0",
         "0",
         "0",
         "0",
         "0",
         "0",
         "0",
         "0",
         "0",
         "0",
         "0",
         "0",
         "0",
         "0",
         "0",
         "0",
         "0",
         "0",
         "0",
         "0",
         "0",
         "0",
         "0",
         "0",
         "0",
         "0",
         "0",
         "0",
         "0",
         "0",
         "0",
         "0",
         "0",
         "0",
         "0",
         "0",
         "0",
         "0",
         "0",
         "0",
         "0",
         "0",
         "0",
         "0",
         "0",
         "0",
         "0",
         "0",
         "0",
         "0",
         "0",
         "0",
         "0",
         "0",
         "0",
         "0",
         "0",
         "0",
         "0",
         "0",
         "0",
         "0",
         "0",
         "0",
         "0",
         "0",
         "0",
         "0",
         "0",
         "0",
         "0",
         "0",
         "0",
         "0",
         "0",
         "0",
         "0",
         "55",
         "148",
         "210",
         "253",
         "253",
         "113",
         "87",
         "148",
         "55",
         "0",
         "0",
         "0",
         "0",
         "0",
         "0",
         "0",
         "0",
         "0",
         "0",
         "0",
         "0",
         "0",
         "0",
         "0",
         "0",
         "0",
         "0",
         "87",
         "232",
         "252",
         "253",
         "189",
         "210",
         "252",
         "252",
         "253",
         "168",
         "0",
         "0",
         "0",
         "0",
         "0",
         "0",
         "0",
         "0",
         "0",
         "0",
         "0",
         "0",
         "0",
         "0",
         "0",
         "0",
         "4",
         "57",
         "242",
         "252",
         "190",
         "65",
         "5",
         "12",
         "182",
         "252",
         "253",
         "116",
         "0",
         "0",
         "0",
         "0",
         "0",
         "0",
         "0",
         "0",
         "0",
         "0",
         "0",
         "0",
         "0",
         "0",
         "0",
         "0",
         "96",
         "252",
         "252",
         "183",
         "14",
         "0",
         "0",
         "92",
         "252",
         "252",
         "225",
         "21",
         "0",
         "0",
         "0",
         "0",
         "0",
         "0",
         "0",
         "0",
         "0",
         "0",
         "0",
         "0",
         "0",
         "0",
         "0",
         "132",
         "253",
         "252",
         "146",
         "14",
         "0",
         "0",
         "0",
         "215",
         "252",
         "252",
         "79",
         "0",
         "0",
         "0",
         "0",
         "0",
         "0",
         "0",
         "0",
         "0",
         "0",
         "0",
         "0",
         "0",
         "0",
         "0",
         "126",
         "253",
         "247",
         "176",
         "9",
         "0",
         "0",
         "8",
         "78",
         "245",
         "253",
         "129",
         "0",
         "0",
         "0",
         "0",
         "0",
         "0",
         "0",
         "0",
         "0",
         "0",
         "0",
         "0",
         "0",
         "0",
         "0",
         "16",
         "232",
         "252",
         "176",
         "0",
         "0",
         "0",
         "36",
         "201",
         "252",
         "252",
         "169",
         "11",
         "0",
         "0",
         "0",
         "0",
         "0",
         "0",
         "0",
         "0",
         "0",
         "0",
         "0",
         "0",
         "0",
         "0",
         "0",
         "22",
         "252",
         "252",
         "30",
         "22",
         "119",
         "197",
         "241",
         "253",
         "252",
         "251",
         "77",
         "0",
         "0",
         "0",
         "0",
         "0",
         "0",
         "0",
         "0",
         "0",
         "0",
         "0",
         "0",
         "0",
         "0",
         "0",
         "0",
         "16",
         "231",
         "252",
         "253",
         "252",
         "252",
         "252",
         "226",
         "227",
         "252",
         "231",
         "0",
         "0",
         "0",
         "0",
         "0",
         "0",
         "0",
         "0",
         "0",
         "0",
         "0",
         "0",
         "0",
         "0",
         "0",
         "0",
         "0",
         "0",
         "55",
         "235",
         "253",
         "217",
         "138",
         "42",
         "24",
         "192",
         "252",
         "143",
         "0",
         "0",
         "0",
         "0",
         "0",
         "0",
         "0",
         "0",
         "0",
         "0",
         "0",
         "0",
         "0",
         "0",
         "0",
         "0",
         "0",
         "0",
         "0",
         "0",
         "0",
         "0",
         "0",
         "0",
         "62",
         "255",
         "253",
         "109",
         "0",
         "0",
         "0",
         "0",
         "0",
         "0",
         "0",
         "0",
         "0",
         "0",
         "0",
         "0",
         "0",
         "0",
         "0",
         "0",
         "0",
         "0",
         "0",
         "0",
         "0",
         "0",
         "0",
         "0",
         "71",
         "253",
         "252",
         "21",
         "0",
         "0",
         "0",
         "0",
         "0",
         "0",
         "0",
         "0",
         "0",
         "0",
         "0",
         "0",
         "0",
         "0",
         "0",
         "0",
         "0",
         "0",
         "0",
         "0",
         "0",
         "0",
         "0",
         "0",
         "0",
         "253",
         "252",
         "21",
         "0",
         "0",
         "0",
         "0",
         "0",
         "0",
         "0",
         "0",
         "0",
         "0",
         "0",
         "0",
         "0",
         "0",
         "0",
         "0",
         "0",
         "0",
         "0",
         "0",
         "0",
         "0",
         "0",
         "0",
         "71",
         "253",
         "252",
         "21",
         "0",
         "0",
         "0",
         "0",
         "0",
         "0",
         "0",
         "0",
         "0",
         "0",
         "0",
         "0",
         "0",
         "0",
         "0",
         "0",
         "0",
         "0",
         "0",
         "0",
         "0",
         "0",
         "0",
         "0",
         "106",
         "253",
         "252",
         "21",
         "0",
         "0",
         "0",
         "0",
         "0",
         "0",
         "0",
         "0",
         "0",
         "0",
         "0",
         "0",
         "0",
         "0",
         "0",
         "0",
         "0",
         "0",
         "0",
         "0",
         "0",
         "0",
         "0",
         "0",
         "45",
         "255",
         "253",
         "21",
         "0",
         "0",
         "0",
         "0",
         "0",
         "0",
         "0",
         "0",
         "0",
         "0",
         "0",
         "0",
         "0",
         "0",
         "0",
         "0",
         "0",
         "0",
         "0",
         "0",
         "0",
         "0",
         "0",
         "0",
         "0",
         "218",
         "252",
         "56",
         "0",
         "0",
         "0",
         "0",
         "0",
         "0",
         "0",
         "0",
         "0",
         "0",
         "0",
         "0",
         "0",
         "0",
         "0",
         "0",
         "0",
         "0",
         "0",
         "0",
         "0",
         "0",
         "0",
         "0",
         "0",
         "96",
         "252",
         "189",
         "42",
         "0",
         "0",
         "0",
         "0",
         "0",
         "0",
         "0",
         "0",
         "0",
         "0",
         "0",
         "0",
         "0",
         "0",
         "0",
         "0",
         "0",
         "0",
         "0",
         "0",
         "0",
         "0",
         "0",
         "0",
         "14",
         "184",
         "252",
         "170",
         "11",
         "0",
         "0",
         "0",
         "0",
         "0",
         "0",
         "0",
         "0",
         "0",
         "0",
         "0",
         "0",
         "0",
         "0",
         "0",
         "0",
         "0",
         "0",
         "0",
         "0",
         "0",
         "0",
         "0",
         "0",
         "14",
         "147",
         "252",
         "42",
         "0",
         "0",
         "0",
         "0",
         "0",
         "0",
         "0",
         "0",
         "0",
         "0",
         "0",
         "0",
         "0",
         "0",
         "0",
         "0",
         "0",
         "0",
         "0",
         "0",
         "0",
         "0",
         "0",
         "0",
         "0",
         "0",
         "0",
         "0",
         "0",
         "0",
         "0",
         "0",
         "0",
         "0",
         "0",
         "0",
         "0"
        ]
       ],
       "shape": {
        "columns": 785,
        "rows": 5
       }
      },
      "text/html": [
       "<div>\n",
       "<style scoped>\n",
       "    .dataframe tbody tr th:only-of-type {\n",
       "        vertical-align: middle;\n",
       "    }\n",
       "\n",
       "    .dataframe tbody tr th {\n",
       "        vertical-align: top;\n",
       "    }\n",
       "\n",
       "    .dataframe thead th {\n",
       "        text-align: right;\n",
       "    }\n",
       "</style>\n",
       "<table border=\"1\" class=\"dataframe\">\n",
       "  <thead>\n",
       "    <tr style=\"text-align: right;\">\n",
       "      <th></th>\n",
       "      <th>label</th>\n",
       "      <th>1x1</th>\n",
       "      <th>1x2</th>\n",
       "      <th>1x3</th>\n",
       "      <th>1x4</th>\n",
       "      <th>1x5</th>\n",
       "      <th>1x6</th>\n",
       "      <th>1x7</th>\n",
       "      <th>1x8</th>\n",
       "      <th>1x9</th>\n",
       "      <th>...</th>\n",
       "      <th>28x19</th>\n",
       "      <th>28x20</th>\n",
       "      <th>28x21</th>\n",
       "      <th>28x22</th>\n",
       "      <th>28x23</th>\n",
       "      <th>28x24</th>\n",
       "      <th>28x25</th>\n",
       "      <th>28x26</th>\n",
       "      <th>28x27</th>\n",
       "      <th>28x28</th>\n",
       "    </tr>\n",
       "  </thead>\n",
       "  <tbody>\n",
       "    <tr>\n",
       "      <th>0</th>\n",
       "      <td>5</td>\n",
       "      <td>0</td>\n",
       "      <td>0</td>\n",
       "      <td>0</td>\n",
       "      <td>0</td>\n",
       "      <td>0</td>\n",
       "      <td>0</td>\n",
       "      <td>0</td>\n",
       "      <td>0</td>\n",
       "      <td>0</td>\n",
       "      <td>...</td>\n",
       "      <td>0</td>\n",
       "      <td>0</td>\n",
       "      <td>0</td>\n",
       "      <td>0</td>\n",
       "      <td>0</td>\n",
       "      <td>0</td>\n",
       "      <td>0</td>\n",
       "      <td>0</td>\n",
       "      <td>0</td>\n",
       "      <td>0</td>\n",
       "    </tr>\n",
       "    <tr>\n",
       "      <th>1</th>\n",
       "      <td>0</td>\n",
       "      <td>0</td>\n",
       "      <td>0</td>\n",
       "      <td>0</td>\n",
       "      <td>0</td>\n",
       "      <td>0</td>\n",
       "      <td>0</td>\n",
       "      <td>0</td>\n",
       "      <td>0</td>\n",
       "      <td>0</td>\n",
       "      <td>...</td>\n",
       "      <td>0</td>\n",
       "      <td>0</td>\n",
       "      <td>0</td>\n",
       "      <td>0</td>\n",
       "      <td>0</td>\n",
       "      <td>0</td>\n",
       "      <td>0</td>\n",
       "      <td>0</td>\n",
       "      <td>0</td>\n",
       "      <td>0</td>\n",
       "    </tr>\n",
       "    <tr>\n",
       "      <th>2</th>\n",
       "      <td>4</td>\n",
       "      <td>0</td>\n",
       "      <td>0</td>\n",
       "      <td>0</td>\n",
       "      <td>0</td>\n",
       "      <td>0</td>\n",
       "      <td>0</td>\n",
       "      <td>0</td>\n",
       "      <td>0</td>\n",
       "      <td>0</td>\n",
       "      <td>...</td>\n",
       "      <td>0</td>\n",
       "      <td>0</td>\n",
       "      <td>0</td>\n",
       "      <td>0</td>\n",
       "      <td>0</td>\n",
       "      <td>0</td>\n",
       "      <td>0</td>\n",
       "      <td>0</td>\n",
       "      <td>0</td>\n",
       "      <td>0</td>\n",
       "    </tr>\n",
       "    <tr>\n",
       "      <th>3</th>\n",
       "      <td>1</td>\n",
       "      <td>0</td>\n",
       "      <td>0</td>\n",
       "      <td>0</td>\n",
       "      <td>0</td>\n",
       "      <td>0</td>\n",
       "      <td>0</td>\n",
       "      <td>0</td>\n",
       "      <td>0</td>\n",
       "      <td>0</td>\n",
       "      <td>...</td>\n",
       "      <td>0</td>\n",
       "      <td>0</td>\n",
       "      <td>0</td>\n",
       "      <td>0</td>\n",
       "      <td>0</td>\n",
       "      <td>0</td>\n",
       "      <td>0</td>\n",
       "      <td>0</td>\n",
       "      <td>0</td>\n",
       "      <td>0</td>\n",
       "    </tr>\n",
       "    <tr>\n",
       "      <th>4</th>\n",
       "      <td>9</td>\n",
       "      <td>0</td>\n",
       "      <td>0</td>\n",
       "      <td>0</td>\n",
       "      <td>0</td>\n",
       "      <td>0</td>\n",
       "      <td>0</td>\n",
       "      <td>0</td>\n",
       "      <td>0</td>\n",
       "      <td>0</td>\n",
       "      <td>...</td>\n",
       "      <td>0</td>\n",
       "      <td>0</td>\n",
       "      <td>0</td>\n",
       "      <td>0</td>\n",
       "      <td>0</td>\n",
       "      <td>0</td>\n",
       "      <td>0</td>\n",
       "      <td>0</td>\n",
       "      <td>0</td>\n",
       "      <td>0</td>\n",
       "    </tr>\n",
       "  </tbody>\n",
       "</table>\n",
       "<p>5 rows × 785 columns</p>\n",
       "</div>"
      ],
      "text/plain": [
       "   label  1x1  1x2  1x3  1x4  1x5  1x6  1x7  1x8  1x9  ...  28x19  28x20  \\\n",
       "0      5    0    0    0    0    0    0    0    0    0  ...      0      0   \n",
       "1      0    0    0    0    0    0    0    0    0    0  ...      0      0   \n",
       "2      4    0    0    0    0    0    0    0    0    0  ...      0      0   \n",
       "3      1    0    0    0    0    0    0    0    0    0  ...      0      0   \n",
       "4      9    0    0    0    0    0    0    0    0    0  ...      0      0   \n",
       "\n",
       "   28x21  28x22  28x23  28x24  28x25  28x26  28x27  28x28  \n",
       "0      0      0      0      0      0      0      0      0  \n",
       "1      0      0      0      0      0      0      0      0  \n",
       "2      0      0      0      0      0      0      0      0  \n",
       "3      0      0      0      0      0      0      0      0  \n",
       "4      0      0      0      0      0      0      0      0  \n",
       "\n",
       "[5 rows x 785 columns]"
      ]
     },
     "execution_count": 19,
     "metadata": {},
     "output_type": "execute_result"
    }
   ],
   "source": [
    "df.head()"
   ]
  },
  {
   "cell_type": "code",
   "execution_count": 20,
   "id": "0b49acd6",
   "metadata": {},
   "outputs": [
    {
     "data": {
      "text/plain": [
       "(60000, 785)"
      ]
     },
     "execution_count": 20,
     "metadata": {},
     "output_type": "execute_result"
    }
   ],
   "source": [
    "df.shape"
   ]
  },
  {
   "cell_type": "code",
   "execution_count": 21,
   "id": "c0b0e05d",
   "metadata": {},
   "outputs": [
    {
     "data": {
      "text/plain": [
       "Index(['label', '1x1', '1x2', '1x3', '1x4', '1x5', '1x6', '1x7', '1x8', '1x9',\n",
       "       ...\n",
       "       '28x19', '28x20', '28x21', '28x22', '28x23', '28x24', '28x25', '28x26',\n",
       "       '28x27', '28x28'],\n",
       "      dtype='object', length=785)"
      ]
     },
     "execution_count": 21,
     "metadata": {},
     "output_type": "execute_result"
    }
   ],
   "source": [
    "df.columns"
   ]
  },
  {
   "cell_type": "code",
   "execution_count": 22,
   "id": "966f5f56",
   "metadata": {},
   "outputs": [
    {
     "name": "stdout",
     "output_type": "stream",
     "text": [
      "<class 'pandas.core.frame.DataFrame'>\n",
      "RangeIndex: 60000 entries, 0 to 59999\n",
      "Columns: 785 entries, label to 28x28\n",
      "dtypes: int64(785)\n",
      "memory usage: 359.3 MB\n"
     ]
    }
   ],
   "source": [
    "df.info()"
   ]
  },
  {
   "cell_type": "code",
   "execution_count": 23,
   "id": "f9371343",
   "metadata": {},
   "outputs": [
    {
     "data": {
      "application/vnd.microsoft.datawrangler.viewer.v0+json": {
       "columns": [
        {
         "name": "index",
         "rawType": "object",
         "type": "string"
        },
        {
         "name": "0",
         "rawType": "int64",
         "type": "integer"
        }
       ],
       "ref": "ec648219-de7c-4044-9167-368af03b8b07",
       "rows": [
        [
         "label",
         "0"
        ],
        [
         "1x1",
         "0"
        ],
        [
         "1x2",
         "0"
        ],
        [
         "1x3",
         "0"
        ],
        [
         "1x4",
         "0"
        ],
        [
         "1x5",
         "0"
        ],
        [
         "1x6",
         "0"
        ],
        [
         "1x7",
         "0"
        ],
        [
         "1x8",
         "0"
        ],
        [
         "1x9",
         "0"
        ],
        [
         "1x10",
         "0"
        ],
        [
         "1x11",
         "0"
        ],
        [
         "1x12",
         "0"
        ],
        [
         "1x13",
         "0"
        ],
        [
         "1x14",
         "0"
        ],
        [
         "1x15",
         "0"
        ],
        [
         "1x16",
         "0"
        ],
        [
         "1x17",
         "0"
        ],
        [
         "1x18",
         "0"
        ],
        [
         "1x19",
         "0"
        ],
        [
         "1x20",
         "0"
        ],
        [
         "1x21",
         "0"
        ],
        [
         "1x22",
         "0"
        ],
        [
         "1x23",
         "0"
        ],
        [
         "1x24",
         "0"
        ],
        [
         "1x25",
         "0"
        ],
        [
         "1x26",
         "0"
        ],
        [
         "1x27",
         "0"
        ],
        [
         "1x28",
         "0"
        ],
        [
         "2x1",
         "0"
        ],
        [
         "2x2",
         "0"
        ],
        [
         "2x3",
         "0"
        ],
        [
         "2x4",
         "0"
        ],
        [
         "2x5",
         "0"
        ],
        [
         "2x6",
         "0"
        ],
        [
         "2x7",
         "0"
        ],
        [
         "2x8",
         "0"
        ],
        [
         "2x9",
         "0"
        ],
        [
         "2x10",
         "0"
        ],
        [
         "2x11",
         "0"
        ],
        [
         "2x12",
         "0"
        ],
        [
         "2x13",
         "0"
        ],
        [
         "2x14",
         "0"
        ],
        [
         "2x15",
         "0"
        ],
        [
         "2x16",
         "0"
        ],
        [
         "2x17",
         "0"
        ],
        [
         "2x18",
         "0"
        ],
        [
         "2x19",
         "0"
        ],
        [
         "2x20",
         "0"
        ],
        [
         "2x21",
         "0"
        ]
       ],
       "shape": {
        "columns": 1,
        "rows": 785
       }
      },
      "text/plain": [
       "label    0\n",
       "1x1      0\n",
       "1x2      0\n",
       "1x3      0\n",
       "1x4      0\n",
       "        ..\n",
       "28x24    0\n",
       "28x25    0\n",
       "28x26    0\n",
       "28x27    0\n",
       "28x28    0\n",
       "Length: 785, dtype: int64"
      ]
     },
     "execution_count": 23,
     "metadata": {},
     "output_type": "execute_result"
    }
   ],
   "source": [
    "df.isna().sum()"
   ]
  },
  {
   "cell_type": "markdown",
   "id": "53016c65",
   "metadata": {},
   "source": [
    "#### Preprocessing"
   ]
  },
  {
   "cell_type": "code",
   "execution_count": 24,
   "id": "80119665",
   "metadata": {},
   "outputs": [],
   "source": [
    "X_train = df.drop(\"label\", axis=1)\n",
    "y_train = df['label'].values\n",
    "X_test = df_test.drop(\"label\", axis=1)\n",
    "y_test = df_test['label'].values"
   ]
  },
  {
   "cell_type": "code",
   "execution_count": 25,
   "id": "99cb18b1",
   "metadata": {},
   "outputs": [],
   "source": [
    "X_train = X_train.astype('float32') / 255.0\n",
    "X_test = X_test.astype('float32') / 255.0"
   ]
  },
  {
   "cell_type": "code",
   "execution_count": 26,
   "id": "00e6623e",
   "metadata": {},
   "outputs": [],
   "source": [
    "X_train_img = X_train.values.reshape(-1, 28, 28)\n",
    "X_test_img = X_test.values.reshape(-1, 28, 28)"
   ]
  },
  {
   "cell_type": "code",
   "execution_count": 27,
   "id": "19722b86",
   "metadata": {},
   "outputs": [],
   "source": [
    "y_train_cat = to_categorical(y_train, num_classes=10)\n",
    "y_test_cat = to_categorical(y_test, num_classes=10)"
   ]
  },
  {
   "cell_type": "markdown",
   "id": "11e91732",
   "metadata": {},
   "source": [
    "#### Visualizing MNIST DATASET"
   ]
  },
  {
   "cell_type": "code",
   "execution_count": 56,
   "id": "90f1e32e",
   "metadata": {},
   "outputs": [
    {
     "data": {
      "image/png": "[encoded data removed]",
      "text/plain": [
       "<Figure size 1200x200 with 10 Axes>"
      ]
     },
     "metadata": {},
     "output_type": "display_data"
    }
   ],
   "source": [
    "plt.figure(figsize=(12,2))\n",
    "for i in range(10):\n",
    "    plt.subplot(1,10, i+1)\n",
    "    # use the preprocessed image array and labels already defined in the notebook\n",
    "    plt.imshow(X_train_img[i], cmap='gray', interpolation='nearest')\n",
    "    plt.axis('off')\n",
    "    plt.title(str(y_train[i]))\n",
    "plt.tight_layout()\n",
    "plt.show()"
   ]
  },
  {
   "cell_type": "code",
   "execution_count": 28,
   "id": "7a171c1c",
   "metadata": {},
   "outputs": [],
   "source": [
    "# Do not use sklearn.linear_model.Perceptron with Keras layers.\n",
    "# The model is defined using Keras Sequential below (cell 14).\n",
    "# Keep this cell empty or use it for notes."
   ]
  },
  {
   "cell_type": "markdown",
   "id": "5a20bb84",
   "metadata": {},
   "source": [
    "#### 1- Using Perceptron"
   ]
  },
  {
   "cell_type": "code",
   "execution_count": 29,
   "id": "900373c4",
   "metadata": {},
   "outputs": [],
   "source": [
    "perceptron = Sequential([\n",
    "    Flatten(input_shape = (28, 28)),\n",
    "    Dense(10, activation='softmax')\n",
    "])"
   ]
  },
  {
   "cell_type": "code",
   "execution_count": 30,
   "id": "c23160e9",
   "metadata": {},
   "outputs": [],
   "source": [
    "perceptron.compile(optimizer='sgd', loss='categorical_crossentropy', metrics=[\"accuracy\"])"
   ]
  },
  {
   "cell_type": "code",
   "execution_count": 31,
   "id": "da7d5e42",
   "metadata": {},
   "outputs": [
    {
     "name": "stdout",
     "output_type": "stream",
     "text": [
      "Epoch 1/5\n",
      "\u001b[1m1875/1875\u001b[0m \u001b[32m━━━━━━━━━━━━━━━━━━━━\u001b[0m\u001b[37m\u001b[0m \u001b[1m6s\u001b[0m 3ms/step - accuracy: 0.8152 - loss: 0.7773 - val_accuracy: 0.8804 - val_loss: 0.4798\n",
      "Epoch 2/5\n",
      "\u001b[1m1875/1875\u001b[0m \u001b[32m━━━━━━━━━━━━━━━━━━━━\u001b[0m\u001b[37m\u001b[0m \u001b[1m5s\u001b[0m 3ms/step - accuracy: 0.8804 - loss: 0.4565 - val_accuracy: 0.8962 - val_loss: 0.3993\n",
      "Epoch 3/5\n",
      "\u001b[1m1875/1875\u001b[0m \u001b[32m━━━━━━━━━━━━━━━━━━━━\u001b[0m\u001b[37m\u001b[0m \u001b[1m6s\u001b[0m 3ms/step - accuracy: 0.8909 - loss: 0.4036 - val_accuracy: 0.9020 - val_loss: 0.3672\n",
      "Epoch 4/5\n",
      "\u001b[1m1875/1875\u001b[0m \u001b[32m━━━━━━━━━━━━━━━━━━━━\u001b[0m\u001b[37m\u001b[0m \u001b[1m6s\u001b[0m 3ms/step - accuracy: 0.8969 - loss: 0.3771 - val_accuracy: 0.9053 - val_loss: 0.3478\n",
      "Epoch 5/5\n",
      "\u001b[1m1875/1875\u001b[0m \u001b[32m━━━━━━━━━━━━━━━━━━━━\u001b[0m\u001b[37m\u001b[0m \u001b[1m20s\u001b[0m 11ms/step - accuracy: 0.9003 - loss: 0.3603 - val_accuracy: 0.9074 - val_loss: 0.3352\n"
     ]
    }
   ],
   "source": [
    "history_percep = perceptron.fit(\n",
    "    X_train_img,\n",
    "    y_train_cat,\n",
    "    epochs=5,\n",
    "    batch_size=32,\n",
    "    validation_data=(X_test_img, y_test_cat),\n",
    "    verbose=1\n",
    ")"
   ]
  },
  {
   "cell_type": "code",
   "execution_count": 32,
   "id": "1a6b2d5f",
   "metadata": {},
   "outputs": [],
   "source": [
    "acc_perc = perceptron.evaluate(X_test_img, y_test_cat, verbose=0)[1]"
   ]
  },
  {
   "cell_type": "code",
   "execution_count": 33,
   "id": "00ed99b4",
   "metadata": {},
   "outputs": [
    {
     "data": {
      "text/plain": [
       "0.9074000120162964"
      ]
     },
     "execution_count": 33,
     "metadata": {},
     "output_type": "execute_result"
    }
   ],
   "source": [
    "acc_perc"
   ]
  },
  {
   "cell_type": "markdown",
   "id": "fd427dde",
   "metadata": {},
   "source": [
    "#### 2- Using ANN"
   ]
  },
  {
   "cell_type": "code",
   "execution_count": 34,
   "id": "96c5adcc",
   "metadata": {},
   "outputs": [],
   "source": [
    "ann = Sequential([\n",
    "    Flatten(input_shape=(28,28)),\n",
    "    Dense(128, activation='relu'),\n",
    "    Dense(64, activation='relu'),\n",
    "    Dense(10, activation='softmax')\n",
    "])"
   ]
  },
  {
   "cell_type": "code",
   "execution_count": 35,
   "id": "f95167ab",
   "metadata": {},
   "outputs": [],
   "source": [
    "ann.compile(optimizer='adam', loss='categorical_crossentropy', metrics=['accuracy'])"
   ]
  },
  {
   "cell_type": "code",
   "execution_count": 36,
   "id": "137a74ba",
   "metadata": {},
   "outputs": [
    {
     "name": "stdout",
     "output_type": "stream",
     "text": [
      "Epoch 1/5\n",
      "\u001b[1m1875/1875\u001b[0m \u001b[32m━━━━━━━━━━━━━━━━━━━━\u001b[0m\u001b[37m\u001b[0m \u001b[1m23s\u001b[0m 10ms/step - accuracy: 0.9300 - loss: 0.2383 - val_accuracy: 0.9595 - val_loss: 0.1389\n",
      "Epoch 2/5\n",
      "\u001b[1m1875/1875\u001b[0m \u001b[32m━━━━━━━━━━━━━━━━━━━━\u001b[0m\u001b[37m\u001b[0m \u001b[1m8s\u001b[0m 4ms/step - accuracy: 0.9694 - loss: 0.1014 - val_accuracy: 0.9720 - val_loss: 0.0897\n",
      "Epoch 3/5\n",
      "\u001b[1m1875/1875\u001b[0m \u001b[32m━━━━━━━━━━━━━━━━━━━━\u001b[0m\u001b[37m\u001b[0m \u001b[1m9s\u001b[0m 5ms/step - accuracy: 0.9776 - loss: 0.0705 - val_accuracy: 0.9674 - val_loss: 0.1052\n",
      "Epoch 4/5\n",
      "\u001b[1m1875/1875\u001b[0m \u001b[32m━━━━━━━━━━━━━━━━━━━━\u001b[0m\u001b[37m\u001b[0m \u001b[1m9s\u001b[0m 5ms/step - accuracy: 0.9828 - loss: 0.0542 - val_accuracy: 0.9749 - val_loss: 0.0841\n",
      "Epoch 5/5\n",
      "\u001b[1m1875/1875\u001b[0m \u001b[32m━━━━━━━━━━━━━━━━━━━━\u001b[0m\u001b[37m\u001b[0m \u001b[1m18s\u001b[0m 10ms/step - accuracy: 0.9860 - loss: 0.0428 - val_accuracy: 0.9769 - val_loss: 0.0772\n"
     ]
    }
   ],
   "source": [
    "history_ann = ann.fit(\n",
    "    X_train_img,\n",
    "    y_train_cat,\n",
    "    epochs=5,\n",
    "    batch_size=32,\n",
    "    validation_data=(X_test_img, y_test_cat),\n",
    "    verbose=1\n",
    ")"
   ]
  },
  {
   "cell_type": "code",
   "execution_count": 37,
   "id": "18eb5463",
   "metadata": {},
   "outputs": [],
   "source": [
    "acc_ann = ann.evaluate(X_test_img, y_test_cat, verbose=0)[1]"
   ]
  },
  {
   "cell_type": "code",
   "execution_count": 38,
   "id": "a9e364bd",
   "metadata": {},
   "outputs": [
    {
     "data": {
      "text/plain": [
       "0.9768999814987183"
      ]
     },
     "execution_count": 38,
     "metadata": {},
     "output_type": "execute_result"
    }
   ],
   "source": [
    "acc_ann"
   ]
  },
  {
   "cell_type": "markdown",
   "id": "34014a81",
   "metadata": {},
   "source": [
    "#### 3- Using CNN"
   ]
  },
  {
   "cell_type": "code",
   "execution_count": 41,
   "id": "80b029ae",
   "metadata": {},
   "outputs": [],
   "source": [
    "X_train_cnn = X_train.values.reshape(-1, 28, 28, 1)\n",
    "X_test_cnn = X_test.values.reshape(-1, 28, 28, 1)"
   ]
  },
  {
   "cell_type": "code",
   "execution_count": 43,
   "id": "742119fa",
   "metadata": {},
   "outputs": [],
   "source": [
    "cnn = Sequential([\n",
    "    Conv2D(32, kernel_size=(3,3), activation='relu', input_shape=(28,28,1)),\n",
    "    MaxPooling2D(pool_size=(2,2)),\n",
    "    Conv2D(64, kernel_size=(3,3), activation='relu'),\n",
    "    MaxPooling2D(pool_size=(2,2)),\n",
    "    Flatten(),\n",
    "    Dense(128, activation='relu'),\n",
    "    Dropout(0.5),\n",
    "    Dense(10, activation='softmax')\n",
    "])"
   ]
  },
  {
   "cell_type": "code",
   "execution_count": 44,
   "id": "6e9a9e42",
   "metadata": {},
   "outputs": [],
   "source": [
    "cnn.compile(optimizer='adam', loss='categorical_crossentropy', metrics=[\"accuracy\"])"
   ]
  },
  {
   "cell_type": "code",
   "execution_count": 45,
   "id": "6029e565",
   "metadata": {},
   "outputs": [
    {
     "name": "stdout",
     "output_type": "stream",
     "text": [
      "Epoch 1/5\n",
      "\u001b[1m1875/1875\u001b[0m \u001b[32m━━━━━━━━━━━━━━━━━━━━\u001b[0m\u001b[37m\u001b[0m \u001b[1m51s\u001b[0m 26ms/step - accuracy: 0.9392 - loss: 0.2045 - val_accuracy: 0.9839 - val_loss: 0.0492\n",
      "Epoch 2/5\n",
      "\u001b[1m1875/1875\u001b[0m \u001b[32m━━━━━━━━━━━━━━━━━━━━\u001b[0m\u001b[37m\u001b[0m \u001b[1m63s\u001b[0m 16ms/step - accuracy: 0.9785 - loss: 0.0735 - val_accuracy: 0.9891 - val_loss: 0.0309\n",
      "Epoch 3/5\n",
      "\u001b[1m1875/1875\u001b[0m \u001b[32m━━━━━━━━━━━━━━━━━━━━\u001b[0m\u001b[37m\u001b[0m \u001b[1m23s\u001b[0m 12ms/step - accuracy: 0.9836 - loss: 0.0533 - val_accuracy: 0.9916 - val_loss: 0.0263\n",
      "Epoch 4/5\n",
      "\u001b[1m1875/1875\u001b[0m \u001b[32m━━━━━━━━━━━━━━━━━━━━\u001b[0m\u001b[37m\u001b[0m \u001b[1m25s\u001b[0m 14ms/step - accuracy: 0.9870 - loss: 0.0440 - val_accuracy: 0.9916 - val_loss: 0.0272\n",
      "Epoch 5/5\n",
      "\u001b[1m1875/1875\u001b[0m \u001b[32m━━━━━━━━━━━━━━━━━━━━\u001b[0m\u001b[37m\u001b[0m \u001b[1m21s\u001b[0m 11ms/step - accuracy: 0.9888 - loss: 0.0365 - val_accuracy: 0.9921 - val_loss: 0.0235\n"
     ]
    }
   ],
   "source": [
    "history_cnn = cnn.fit(\n",
    "    X_train_cnn,\n",
    "    y_train_cat,\n",
    "    epochs=5,\n",
    "    batch_size=32,\n",
    "    validation_data=(X_test_cnn, y_test_cat),\n",
    "    verbose=1 \n",
    ")"
   ]
  },
  {
   "cell_type": "code",
   "execution_count": 47,
   "id": "1d31fa9c",
   "metadata": {},
   "outputs": [
    {
     "data": {
      "text/plain": [
       "0.9921000003814697"
      ]
     },
     "execution_count": 47,
     "metadata": {},
     "output_type": "execute_result"
    }
   ],
   "source": [
    "acc_cnn = cnn.evaluate(X_test_cnn, y_test_cat, verbose=0)[1]\n",
    "acc_cnn"
   ]
  },
  {
   "cell_type": "code",
   "execution_count": 48,
   "id": "9d0ec88b",
   "metadata": {},
   "outputs": [],
   "source": [
    "def plot_training(history, title):\n",
    "    plt.figure(figsize=(12,4))\n",
    "    plt.subplot(1,2,1)\n",
    "    plt.plot(history.history['accuracy'], label='Train')\n",
    "    plt.plot(history.history['val_accuracy'], label = 'Val')\n",
    "    plt.title(f\"{title} Accuracy\")\n",
    "    plt.legend()\n",
    "\n",
    "    plt.subplot(1,2,2)\n",
    "    plt.plot(history.history['loss'], label = 'Train')\n",
    "    plt.plot(history.history['val_loss'], label = 'Val')\n",
    "    plt.title(f\"{title} Loss\")\n",
    "    plt.legend()\n",
    "    plt.show()"
   ]
  },
  {
   "cell_type": "code",
   "execution_count": 49,
   "id": "24f90d37",
   "metadata": {},
   "outputs": [
    {
     "data": {
      "image/png": "[encoded data removed]",
      "text/plain": [
       "<Figure size 1200x400 with 2 Axes>"
      ]
     },
     "metadata": {},
     "output_type": "display_data"
    }
   ],
   "source": [
    "plot_training(history_percep, \"Perceptron\")"
   ]
  },
  {
   "cell_type": "code",
   "execution_count": 50,
   "id": "f621087f",
   "metadata": {},
   "outputs": [
    {
     "data": {
      "image/png": "[encoded data removed]",
      "text/plain": [
       "<Figure size 1200x400 with 2 Axes>"
      ]
     },
     "metadata": {},
     "output_type": "display_data"
    }
   ],
   "source": [
    "plot_training(history_ann, \"ANN\")"
   ]
  },
  {
   "cell_type": "code",
   "execution_count": 51,
   "id": "838b589c",
   "metadata": {},
   "outputs": [
    {
     "data": {
      "image/png": "[encoded data removed]",
      "text/plain": [
       "<Figure size 1200x400 with 2 Axes>"
      ]
     },
     "metadata": {},
     "output_type": "display_data"
    }
   ],
   "source": [
    "plot_training(history_cnn, \" CNN\")"
   ]
  },
  {
   "cell_type": "code",
   "execution_count": 52,
   "id": "3788431b",
   "metadata": {},
   "outputs": [
    {
     "data": {
      "image/png": "[encoded data removed]",
      "text/plain": [
       "<Figure size 640x480 with 1 Axes>"
      ]
     },
     "metadata": {},
     "output_type": "display_data"
    }
   ],
   "source": [
    "plt.Figure(figsize=(10,6))\n",
    "plt.plot(history_percep.history['val_accuracy'], label = 'Perceptron')\n",
    "plt.plot(history_ann.history['val_accuracy'], label = \"ANN\")\n",
    "plt.plot(history_cnn.history['val_accuracy'], label = 'CNN')\n",
    "plt.title(\"Validation Accuracy Comparison\")\n",
    "plt.xlabel(\"Epochs\")\n",
    "plt.ylabel(\"Val_Accuracy\")\n",
    "plt.legend()\n",
    "plt.show()"
   ]
  },
  {
   "cell_type": "code",
   "execution_count": 69,
   "id": "176bd883",
   "metadata": {},
   "outputs": [
    {
     "name": "stdout",
     "output_type": "stream",
     "text": [
      "\u001b[1m1/1\u001b[0m \u001b[32m━━━━━━━━━━━━━━━━━━━━\u001b[0m\u001b[37m\u001b[0m \u001b[1m0s\u001b[0m 55ms/step\n",
      "\u001b[1m1/1\u001b[0m \u001b[32m━━━━━━━━━━━━━━━━━━━━\u001b[0m\u001b[37m\u001b[0m \u001b[1m0s\u001b[0m 56ms/step\n",
      "\u001b[1m1/1\u001b[0m \u001b[32m━━━━━━━━━━━━━━━━━━━━\u001b[0m\u001b[37m\u001b[0m \u001b[1m0s\u001b[0m 48ms/step\n",
      "\u001b[1m1/1\u001b[0m \u001b[32m━━━━━━━━━━━━━━━━━━━━\u001b[0m\u001b[37m\u001b[0m \u001b[1m0s\u001b[0m 44ms/step\n",
      "\u001b[1m1/1\u001b[0m \u001b[32m━━━━━━━━━━━━━━━━━━━━\u001b[0m\u001b[37m\u001b[0m \u001b[1m0s\u001b[0m 54ms/step\n",
      "\u001b[1m1/1\u001b[0m \u001b[32m━━━━━━━━━━━━━━━━━━━━\u001b[0m\u001b[37m\u001b[0m \u001b[1m0s\u001b[0m 43ms/step\n",
      "\u001b[1m1/1\u001b[0m \u001b[32m━━━━━━━━━━━━━━━━━━━━\u001b[0m\u001b[37m\u001b[0m \u001b[1m0s\u001b[0m 39ms/step\n",
      "\u001b[1m1/1\u001b[0m \u001b[32m━━━━━━━━━━━━━━━━━━━━\u001b[0m\u001b[37m\u001b[0m \u001b[1m0s\u001b[0m 47ms/step\n",
      "\u001b[1m1/1\u001b[0m \u001b[32m━━━━━━━━━━━━━━━━━━━━\u001b[0m\u001b[37m\u001b[0m \u001b[1m0s\u001b[0m 49ms/step\n",
      "\u001b[1m1/1\u001b[0m \u001b[32m━━━━━━━━━━━━━━━━━━━━\u001b[0m\u001b[37m\u001b[0m \u001b[1m0s\u001b[0m 44ms/step\n",
      "\u001b[1m1/1\u001b[0m \u001b[32m━━━━━━━━━━━━━━━━━━━━\u001b[0m\u001b[37m\u001b[0m \u001b[1m0s\u001b[0m 43ms/step\n",
      "\u001b[1m1/1\u001b[0m \u001b[32m━━━━━━━━━━━━━━━━━━━━\u001b[0m\u001b[37m\u001b[0m \u001b[1m0s\u001b[0m 43ms/step\n",
      "\u001b[1m1/1\u001b[0m \u001b[32m━━━━━━━━━━━━━━━━━━━━\u001b[0m\u001b[37m\u001b[0m \u001b[1m0s\u001b[0m 45ms/step\n",
      "\u001b[1m1/1\u001b[0m \u001b[32m━━━━━━━━━━━━━━━━━━━━\u001b[0m\u001b[37m\u001b[0m \u001b[1m0s\u001b[0m 45ms/step\n",
      "\u001b[1m1/1\u001b[0m \u001b[32m━━━━━━━━━━━━━━━━━━━━\u001b[0m\u001b[37m\u001b[0m \u001b[1m0s\u001b[0m 49ms/step\n"
     ]
    },
    {
     "data": {
      "image/png": "[encoded data removed]",
      "text/plain": [
       "<Figure size 1500x600 with 10 Axes>"
      ]
     },
     "metadata": {},
     "output_type": "display_data"
    }
   ],
   "source": [
    "def show_side_by_side(models, model_names, X, X_cnn, y_true, n=5):\n",
    "    idxs = np.random.choice(len(X), n, replace=False)\n",
    "    plt.figure(figsize=(15, 6))\n",
    "    for i, idx in enumerate(idxs):\n",
    "        plt.subplot(2, n, i+1)\n",
    "        plt.imshow(X[idx].reshape(28, 28), cmap=\"gray\")\n",
    "        plt.axis(\"off\")\n",
    "        plt.title(f\"True: {y_true[idx]}\")\n",
    "        preds = [np.argmax(model.predict(X_cnn[idx].reshape(1, 28, 28, 1) if name == \"CNN\" else X[idx].reshape(1, 28, 28)))\n",
    "                 for model, name in zip(models, model_names)]\n",
    "        plt.subplot(2, n, n+i+1)\n",
    "        plt.axis(\"off\")\n",
    "        plt.title(\"\\n\".join(f\"{n}: {p}\" for n, p in zip(model_names, preds)))\n",
    "    plt.tight_layout()\n",
    "    plt.show()\n",
    "\n",
    "show_side_by_side([perceptron, ann, cnn], [\"Perceptron\", \"ANN\", \"CNN\"], X_test_img, X_test_cnn, y_test, 5)\n"
   ]
  },
  {
   "cell_type": "markdown",
   "id": "1cb154ef",
   "metadata": {},
   "source": [
    "#### Accuracy Comparison"
   ]
  },
  {
   "cell_type": "code",
   "execution_count": 71,
   "id": "fada8851",
   "metadata": {},
   "outputs": [
    {
     "data": {
      "image/png": "[encoded data removed]",
      "text/plain": [
       "<Figure size 800x600 with 1 Axes>"
      ]
     },
     "metadata": {},
     "output_type": "display_data"
    }
   ],
   "source": [
    "final_accs = [acc_perc*100, acc_ann*100, acc_cnn*100]\n",
    "models = [\"Perceptron\", \"ANN\", \"CNN\"]\n",
    "\n",
    "plt.figure(figsize=(8,6))\n",
    "bars = plt.bar(models, final_accs, color=['#ff9999','#66b3ff','#99ff99'])\n",
    "plt.title(\"Final Test Accuracy Comparison\")\n",
    "plt.ylabel(\"Accuracy (%)\")\n",
    "for bar, acc in zip(bars, final_accs):\n",
    "    plt.text(bar.get_x()+bar.get_width()/2, bar.get_height()-1, f\"{acc:.2f}%\",\n",
    "             ha='center', va='bottom', fontsize=12, fontweight='bold')\n",
    "plt.ylim(80, 100)\n",
    "plt.show()"
   ]
  }
 ],
 "metadata": {
  "kernelspec": {
   "display_name": "base",
   "language": "python",
   "name": "python3"
  },
  "language_info": {
   "codemirror_mode": {
    "name": "ipython",
    "version": 3
   },
   "file_extension": ".py",
   "mimetype": "text/x-python",
   "name": "python",
   "nbconvert_exporter": "python",
   "pygments_lexer": "ipython3",
   "version": "3.13.5"
  }
 },
 "nbformat": 4,
 "nbformat_minor": 5
}
